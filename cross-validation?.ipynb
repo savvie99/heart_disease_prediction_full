{
 "cells": [
  {
   "cell_type": "code",
   "execution_count": 33,
   "id": "0e7ee34b",
   "metadata": {},
   "outputs": [],
   "source": [
    "import pandas as pd\n",
    "import numpy as np\n",
    "import seaborn as sns\n",
    "\n",
    "import matplotlib.pyplot as plt\n",
    "import matplotlib.mlab as mlab\n",
    "import matplotlib\n",
    "plt.style.use('ggplot')\n",
    "from matplotlib.pyplot import figure\n",
    "\n",
    "from sklearn.metrics import classification_report, confusion_matrix\n",
    "from sklearn.ensemble import GradientBoostingClassifier\n",
    "from sklearn.neighbors import KNeighborsClassifier\n",
    "from sklearn.metrics import accuracy_score\n",
    "\n",
    "%matplotlib inline \n",
    "matplotlib.rcParams['figure.figsize'] = (12,8)\n",
    "\n",
    "pd.options.mode.chained_assignment = None\n",
    "\n",
    "\n",
    "\n",
    "# read the data\n",
    "df = pd.read_csv('dataset.csv')"
   ]
  },
  {
   "cell_type": "code",
   "execution_count": 34,
   "id": "20f79b2a",
   "metadata": {},
   "outputs": [],
   "source": [
    "#drop irrelevant columns\n",
    "cols_to_drop=['RANDID','educ','TIMECVD','TIME','PERIOD','HDLC','LDLC','ANGINA','HOSPMI', 'MI_FCHD', 'ANYCHD','STROKE','HYPERTEN', 'DEATH','TIMEAP','TIMEMI', 'TIMEMIFC','TIMECHD', 'TIMESTRK', 'TIMEHYP','TIMEDTH']\n",
    "df=df.drop(cols_to_drop, axis=1) #axis=1 because we are dropping columns, not rows"
   ]
  },
  {
   "cell_type": "code",
   "execution_count": 35,
   "id": "eddb3d28",
   "metadata": {},
   "outputs": [
    {
     "data": {
      "text/plain": [
       "0"
      ]
     },
     "execution_count": 35,
     "metadata": {},
     "output_type": "execute_result"
    }
   ],
   "source": [
    "#not many so we can drop them all\n",
    "df=df.dropna()#drop the observations that contain missing values\n",
    "df.isnull().sum().sum() #print number of rows with missing values after dropping the rows"
   ]
  },
  {
   "cell_type": "code",
   "execution_count": 36,
   "id": "6465a920",
   "metadata": {},
   "outputs": [],
   "source": [
    "def outlier_treatment(datacolumn):\n",
    " sorted(datacolumn)\n",
    " Q1,Q3 = np.percentile(datacolumn , [25,75])\n",
    " IQR = Q3-Q1\n",
    " lower_range = Q1-(1.5 * IQR)\n",
    " upper_range = Q3 + (1.5 * IQR)\n",
    " return lower_range,upper_range"
   ]
  },
  {
   "cell_type": "code",
   "execution_count": 37,
   "id": "8682f139",
   "metadata": {},
   "outputs": [],
   "source": [
    "lowerbound,upperbound = outlier_treatment(df.TOTCHOL)\n",
    "df.drop(df[ (df.TOTCHOL > upperbound) | (df.TOTCHOL < lowerbound) ].index , inplace=True)"
   ]
  },
  {
   "cell_type": "code",
   "execution_count": 38,
   "id": "ccc0517a",
   "metadata": {},
   "outputs": [],
   "source": [
    "lowerbound,upperbound = outlier_treatment(df.SYSBP)\n",
    "df.drop(df[ (df.SYSBP > upperbound) | (df.SYSBP < lowerbound) ].index , inplace=True)"
   ]
  },
  {
   "cell_type": "code",
   "execution_count": 39,
   "id": "39658078",
   "metadata": {},
   "outputs": [],
   "source": [
    "lowerbound,upperbound = outlier_treatment(df.DIABP)\n",
    "df.drop(df[ (df.DIABP > upperbound) | (df.DIABP < lowerbound) ].index , inplace=True)"
   ]
  },
  {
   "cell_type": "code",
   "execution_count": 40,
   "id": "cc286934",
   "metadata": {},
   "outputs": [],
   "source": [
    "lowerbound,upperbound = outlier_treatment(df.CIGPDAY)\n",
    "df.drop(df[ (df.CIGPDAY > upperbound) | (df.CIGPDAY < lowerbound) ].index , inplace=True)"
   ]
  },
  {
   "cell_type": "code",
   "execution_count": 41,
   "id": "cd884f03",
   "metadata": {},
   "outputs": [],
   "source": [
    "lowerbound,upperbound = outlier_treatment(df.BMI)\n",
    "df.drop(df[ (df.BMI > upperbound) | (df.BMI < lowerbound) ].index , inplace=True)"
   ]
  },
  {
   "cell_type": "code",
   "execution_count": 42,
   "id": "05465590",
   "metadata": {},
   "outputs": [],
   "source": [
    "lowerbound,upperbound = outlier_treatment(df.HEARTRTE)\n",
    "df.drop(df[ (df.HEARTRTE > upperbound) | (df.HEARTRTE < lowerbound) ].index , inplace=True)"
   ]
  },
  {
   "cell_type": "code",
   "execution_count": 43,
   "id": "cdb7a28b",
   "metadata": {},
   "outputs": [],
   "source": [
    "lowerbound,upperbound = outlier_treatment(df.GLUCOSE)\n",
    "df.drop(df[ (df.GLUCOSE > upperbound) | (df.GLUCOSE < lowerbound) ].index , inplace=True)"
   ]
  },
  {
   "cell_type": "code",
   "execution_count": 44,
   "id": "3116470d",
   "metadata": {},
   "outputs": [
    {
     "data": {
      "text/plain": [
       "(8259, 18)"
      ]
     },
     "execution_count": 44,
     "metadata": {},
     "output_type": "execute_result"
    }
   ],
   "source": [
    "df.shape"
   ]
  },
  {
   "cell_type": "code",
   "execution_count": 45,
   "id": "ddb67f1f",
   "metadata": {},
   "outputs": [],
   "source": [
    "#drop irrelevant columns\n",
    "drop_columns=['CURSMOKE', 'BMI', 'HEARTRTE', 'GLUCOSE']\n",
    "df=df.drop(drop_columns, axis=1) #axis=1 because we are dropping columns, not rows"
   ]
  },
  {
   "cell_type": "code",
   "execution_count": 93,
   "id": "69365e55",
   "metadata": {},
   "outputs": [],
   "source": [
    "from sklearn.model_selection import train_test_split\n",
    "\n",
    "X = df.drop('CVD', axis=1)\n",
    "y = df['CVD']\n",
    "\n",
    "X_train, X_test, y_train, y_test = train_test_split(\n",
    "    X, y, test_size=0.25, random_state=42\n",
    ")"
   ]
  },
  {
   "cell_type": "code",
   "execution_count": 47,
   "id": "ea124a52",
   "metadata": {},
   "outputs": [],
   "source": [
    "from sklearn.preprocessing import StandardScaler\n",
    "sc = StandardScaler()"
   ]
  },
  {
   "cell_type": "code",
   "execution_count": 48,
   "id": "291dbacf",
   "metadata": {},
   "outputs": [],
   "source": [
    "X_train.iloc[:,1:5] = sc.fit_transform(X_train.iloc[:,1:5])"
   ]
  },
  {
   "cell_type": "code",
   "execution_count": 49,
   "id": "ba739553",
   "metadata": {},
   "outputs": [],
   "source": [
    "X_test.iloc[:, 1:5] = sc.transform(X_test.iloc[:, 1:5])"
   ]
  },
  {
   "cell_type": "code",
   "execution_count": 50,
   "id": "4c955ba3",
   "metadata": {},
   "outputs": [
    {
     "data": {
      "text/html": [
       "<div>\n",
       "<style scoped>\n",
       "    .dataframe tbody tr th:only-of-type {\n",
       "        vertical-align: middle;\n",
       "    }\n",
       "\n",
       "    .dataframe tbody tr th {\n",
       "        vertical-align: top;\n",
       "    }\n",
       "\n",
       "    .dataframe thead th {\n",
       "        text-align: right;\n",
       "    }\n",
       "</style>\n",
       "<table border=\"1\" class=\"dataframe\">\n",
       "  <thead>\n",
       "    <tr style=\"text-align: right;\">\n",
       "      <th></th>\n",
       "      <th>SEX</th>\n",
       "      <th>TOTCHOL</th>\n",
       "      <th>AGE</th>\n",
       "      <th>SYSBP</th>\n",
       "      <th>DIABP</th>\n",
       "      <th>CIGPDAY</th>\n",
       "      <th>DIABETES</th>\n",
       "      <th>BPMEDS</th>\n",
       "      <th>PREVCHD</th>\n",
       "      <th>PREVAP</th>\n",
       "      <th>PREVMI</th>\n",
       "      <th>PREVSTRK</th>\n",
       "      <th>PREVHYP</th>\n",
       "    </tr>\n",
       "  </thead>\n",
       "  <tbody>\n",
       "    <tr>\n",
       "      <th>10791</th>\n",
       "      <td>2</td>\n",
       "      <td>0.500643</td>\n",
       "      <td>-0.720942</td>\n",
       "      <td>-0.327366</td>\n",
       "      <td>-0.081681</td>\n",
       "      <td>30.0</td>\n",
       "      <td>0</td>\n",
       "      <td>0.0</td>\n",
       "      <td>0</td>\n",
       "      <td>0</td>\n",
       "      <td>0</td>\n",
       "      <td>0</td>\n",
       "      <td>0</td>\n",
       "    </tr>\n",
       "    <tr>\n",
       "      <th>10146</th>\n",
       "      <td>1</td>\n",
       "      <td>0.018578</td>\n",
       "      <td>-0.193838</td>\n",
       "      <td>-0.508073</td>\n",
       "      <td>-0.850501</td>\n",
       "      <td>20.0</td>\n",
       "      <td>0</td>\n",
       "      <td>0.0</td>\n",
       "      <td>0</td>\n",
       "      <td>0</td>\n",
       "      <td>0</td>\n",
       "      <td>0</td>\n",
       "      <td>0</td>\n",
       "    </tr>\n",
       "    <tr>\n",
       "      <th>11619</th>\n",
       "      <td>2</td>\n",
       "      <td>0.717573</td>\n",
       "      <td>-0.193838</td>\n",
       "      <td>0.034047</td>\n",
       "      <td>0.110524</td>\n",
       "      <td>0.0</td>\n",
       "      <td>0</td>\n",
       "      <td>0.0</td>\n",
       "      <td>0</td>\n",
       "      <td>0</td>\n",
       "      <td>0</td>\n",
       "      <td>0</td>\n",
       "      <td>0</td>\n",
       "    </tr>\n",
       "    <tr>\n",
       "      <th>2146</th>\n",
       "      <td>1</td>\n",
       "      <td>0.597056</td>\n",
       "      <td>1.071209</td>\n",
       "      <td>0.059862</td>\n",
       "      <td>0.014422</td>\n",
       "      <td>50.0</td>\n",
       "      <td>0</td>\n",
       "      <td>0.0</td>\n",
       "      <td>0</td>\n",
       "      <td>0</td>\n",
       "      <td>0</td>\n",
       "      <td>0</td>\n",
       "      <td>0</td>\n",
       "    </tr>\n",
       "    <tr>\n",
       "      <th>5838</th>\n",
       "      <td>2</td>\n",
       "      <td>-0.608108</td>\n",
       "      <td>-0.510100</td>\n",
       "      <td>-1.230898</td>\n",
       "      <td>-1.042706</td>\n",
       "      <td>20.0</td>\n",
       "      <td>0</td>\n",
       "      <td>0.0</td>\n",
       "      <td>0</td>\n",
       "      <td>0</td>\n",
       "      <td>0</td>\n",
       "      <td>0</td>\n",
       "      <td>0</td>\n",
       "    </tr>\n",
       "  </tbody>\n",
       "</table>\n",
       "</div>"
      ],
      "text/plain": [
       "       SEX   TOTCHOL       AGE     SYSBP     DIABP  CIGPDAY  DIABETES  BPMEDS  \\\n",
       "10791    2  0.500643 -0.720942 -0.327366 -0.081681     30.0         0     0.0   \n",
       "10146    1  0.018578 -0.193838 -0.508073 -0.850501     20.0         0     0.0   \n",
       "11619    2  0.717573 -0.193838  0.034047  0.110524      0.0         0     0.0   \n",
       "2146     1  0.597056  1.071209  0.059862  0.014422     50.0         0     0.0   \n",
       "5838     2 -0.608108 -0.510100 -1.230898 -1.042706     20.0         0     0.0   \n",
       "\n",
       "       PREVCHD  PREVAP  PREVMI  PREVSTRK  PREVHYP  \n",
       "10791        0       0       0         0        0  \n",
       "10146        0       0       0         0        0  \n",
       "11619        0       0       0         0        0  \n",
       "2146         0       0       0         0        0  \n",
       "5838         0       0       0         0        0  "
      ]
     },
     "execution_count": 50,
     "metadata": {},
     "output_type": "execute_result"
    }
   ],
   "source": [
    "X_train.head()"
   ]
  },
  {
   "cell_type": "code",
   "execution_count": 51,
   "id": "063aadd8",
   "metadata": {},
   "outputs": [
    {
     "data": {
      "text/html": [
       "<div>\n",
       "<style scoped>\n",
       "    .dataframe tbody tr th:only-of-type {\n",
       "        vertical-align: middle;\n",
       "    }\n",
       "\n",
       "    .dataframe tbody tr th {\n",
       "        vertical-align: top;\n",
       "    }\n",
       "\n",
       "    .dataframe thead th {\n",
       "        text-align: right;\n",
       "    }\n",
       "</style>\n",
       "<table border=\"1\" class=\"dataframe\">\n",
       "  <thead>\n",
       "    <tr style=\"text-align: right;\">\n",
       "      <th></th>\n",
       "      <th>SEX</th>\n",
       "      <th>TOTCHOL</th>\n",
       "      <th>AGE</th>\n",
       "      <th>SYSBP</th>\n",
       "      <th>DIABP</th>\n",
       "      <th>CIGPDAY</th>\n",
       "      <th>DIABETES</th>\n",
       "      <th>BPMEDS</th>\n",
       "      <th>PREVCHD</th>\n",
       "      <th>PREVAP</th>\n",
       "      <th>PREVMI</th>\n",
       "      <th>PREVSTRK</th>\n",
       "      <th>PREVHYP</th>\n",
       "    </tr>\n",
       "  </thead>\n",
       "  <tbody>\n",
       "    <tr>\n",
       "      <th>8306</th>\n",
       "      <td>1</td>\n",
       "      <td>-1.620446</td>\n",
       "      <td>-0.088418</td>\n",
       "      <td>-0.095029</td>\n",
       "      <td>-0.081681</td>\n",
       "      <td>0.0</td>\n",
       "      <td>0</td>\n",
       "      <td>0.0</td>\n",
       "      <td>1</td>\n",
       "      <td>1</td>\n",
       "      <td>0</td>\n",
       "      <td>0</td>\n",
       "      <td>0</td>\n",
       "    </tr>\n",
       "    <tr>\n",
       "      <th>7291</th>\n",
       "      <td>1</td>\n",
       "      <td>-1.644549</td>\n",
       "      <td>1.703733</td>\n",
       "      <td>-1.643941</td>\n",
       "      <td>-1.042706</td>\n",
       "      <td>0.0</td>\n",
       "      <td>1</td>\n",
       "      <td>0.0</td>\n",
       "      <td>1</td>\n",
       "      <td>1</td>\n",
       "      <td>0</td>\n",
       "      <td>0</td>\n",
       "      <td>0</td>\n",
       "    </tr>\n",
       "    <tr>\n",
       "      <th>417</th>\n",
       "      <td>2</td>\n",
       "      <td>1.296052</td>\n",
       "      <td>0.122423</td>\n",
       "      <td>0.292198</td>\n",
       "      <td>0.062473</td>\n",
       "      <td>0.0</td>\n",
       "      <td>0</td>\n",
       "      <td>0.0</td>\n",
       "      <td>0</td>\n",
       "      <td>0</td>\n",
       "      <td>0</td>\n",
       "      <td>0</td>\n",
       "      <td>1</td>\n",
       "    </tr>\n",
       "    <tr>\n",
       "      <th>4028</th>\n",
       "      <td>1</td>\n",
       "      <td>-1.451723</td>\n",
       "      <td>0.754947</td>\n",
       "      <td>-1.076007</td>\n",
       "      <td>-1.475167</td>\n",
       "      <td>0.0</td>\n",
       "      <td>0</td>\n",
       "      <td>0.0</td>\n",
       "      <td>0</td>\n",
       "      <td>0</td>\n",
       "      <td>0</td>\n",
       "      <td>0</td>\n",
       "      <td>0</td>\n",
       "    </tr>\n",
       "    <tr>\n",
       "      <th>3391</th>\n",
       "      <td>2</td>\n",
       "      <td>1.030915</td>\n",
       "      <td>0.122423</td>\n",
       "      <td>2.538120</td>\n",
       "      <td>0.110524</td>\n",
       "      <td>20.0</td>\n",
       "      <td>0</td>\n",
       "      <td>0.0</td>\n",
       "      <td>0</td>\n",
       "      <td>0</td>\n",
       "      <td>0</td>\n",
       "      <td>0</td>\n",
       "      <td>1</td>\n",
       "    </tr>\n",
       "  </tbody>\n",
       "</table>\n",
       "</div>"
      ],
      "text/plain": [
       "      SEX   TOTCHOL       AGE     SYSBP     DIABP  CIGPDAY  DIABETES  BPMEDS  \\\n",
       "8306    1 -1.620446 -0.088418 -0.095029 -0.081681      0.0         0     0.0   \n",
       "7291    1 -1.644549  1.703733 -1.643941 -1.042706      0.0         1     0.0   \n",
       "417     2  1.296052  0.122423  0.292198  0.062473      0.0         0     0.0   \n",
       "4028    1 -1.451723  0.754947 -1.076007 -1.475167      0.0         0     0.0   \n",
       "3391    2  1.030915  0.122423  2.538120  0.110524     20.0         0     0.0   \n",
       "\n",
       "      PREVCHD  PREVAP  PREVMI  PREVSTRK  PREVHYP  \n",
       "8306        1       1       0         0        0  \n",
       "7291        1       1       0         0        0  \n",
       "417         0       0       0         0        1  \n",
       "4028        0       0       0         0        0  \n",
       "3391        0       0       0         0        1  "
      ]
     },
     "execution_count": 51,
     "metadata": {},
     "output_type": "execute_result"
    }
   ],
   "source": [
    "X_test.head()"
   ]
  },
  {
   "cell_type": "code",
   "execution_count": 52,
   "id": "22d92ce3",
   "metadata": {},
   "outputs": [],
   "source": [
    "from imblearn.over_sampling import SMOTE\n",
    "sm = SMOTE(random_state=42)"
   ]
  },
  {
   "cell_type": "code",
   "execution_count": 53,
   "id": "716c8e45",
   "metadata": {},
   "outputs": [],
   "source": [
    "x_train_res, y_train_res = sm.fit_resample(X_train, y_train)"
   ]
  },
  {
   "cell_type": "code",
   "execution_count": 54,
   "id": "e6b71e57",
   "metadata": {},
   "outputs": [
    {
     "name": "stdout",
     "output_type": "stream",
     "text": [
      "Shape of X train before SMOTE: (6194, 13)\n",
      "Shape of X train after SMOTE: (9500, 13)\n",
      "\n",
      "Balance of positive and negative classes (%):\n"
     ]
    },
    {
     "data": {
      "text/plain": [
       "0    50.0\n",
       "1    50.0\n",
       "Name: CVD, dtype: float64"
      ]
     },
     "execution_count": 54,
     "metadata": {},
     "output_type": "execute_result"
    }
   ],
   "source": [
    "print(f'''Shape of X train before SMOTE: {X_train.shape}\n",
    "Shape of X train after SMOTE: {x_train_res.shape}''')\n",
    "\n",
    "print('\\nBalance of positive and negative classes (%):')\n",
    "y_train_res.value_counts(normalize=True) * 100"
   ]
  },
  {
   "cell_type": "code",
   "execution_count": 55,
   "id": "9ad0d029",
   "metadata": {},
   "outputs": [
    {
     "data": {
      "text/plain": [
       "0    4750\n",
       "1    1444\n",
       "Name: CVD, dtype: int64"
      ]
     },
     "execution_count": 55,
     "metadata": {},
     "output_type": "execute_result"
    }
   ],
   "source": [
    "y_train.value_counts()"
   ]
  },
  {
   "cell_type": "code",
   "execution_count": 56,
   "id": "1f8c268e",
   "metadata": {},
   "outputs": [
    {
     "data": {
      "text/plain": [
       "0    4750\n",
       "1    4750\n",
       "Name: CVD, dtype: int64"
      ]
     },
     "execution_count": 56,
     "metadata": {},
     "output_type": "execute_result"
    }
   ],
   "source": [
    "y_train_res.value_counts()"
   ]
  },
  {
   "cell_type": "markdown",
   "id": "30bd1537",
   "metadata": {},
   "source": [
    "## Decision Tree"
   ]
  },
  {
   "cell_type": "markdown",
   "id": "609fd349",
   "metadata": {},
   "source": [
    "Before SMOTE"
   ]
  },
  {
   "cell_type": "code",
   "execution_count": 57,
   "id": "371aad47",
   "metadata": {},
   "outputs": [
    {
     "name": "stdout",
     "output_type": "stream",
     "text": [
      "Classification Report\n",
      "              precision    recall  f1-score   support\n",
      "\n",
      "           0       0.84      0.82      0.83      1623\n",
      "           1       0.39      0.43      0.40       442\n",
      "\n",
      "    accuracy                           0.73      2065\n",
      "   macro avg       0.61      0.62      0.62      2065\n",
      "weighted avg       0.74      0.73      0.74      2065\n",
      "\n"
     ]
    }
   ],
   "source": [
    "from sklearn.tree import DecisionTreeClassifier\n",
    "\n",
    "model_DecisionTree= DecisionTreeClassifier(criterion= \"gini\",random_state=10)\n",
    "\n",
    "#fit the model on the data and predict the values\n",
    "\n",
    "model_DecisionTree.fit(X_train,y_train)\n",
    "\n",
    "y_pred= model_DecisionTree.predict(X_test)\n",
    "\n",
    "print(\"Classification Report\")\n",
    "print(classification_report(y_test, y_pred))"
   ]
  },
  {
   "cell_type": "markdown",
   "id": "5f046ee0",
   "metadata": {},
   "source": [
    "After smote"
   ]
  },
  {
   "cell_type": "code",
   "execution_count": 58,
   "id": "6f668de8",
   "metadata": {},
   "outputs": [
    {
     "name": "stdout",
     "output_type": "stream",
     "text": [
      "Classification Report\n",
      "              precision    recall  f1-score   support\n",
      "\n",
      "           0       0.85      0.75      0.80      1623\n",
      "           1       0.35      0.50      0.41       442\n",
      "\n",
      "    accuracy                           0.70      2065\n",
      "   macro avg       0.60      0.63      0.60      2065\n",
      "weighted avg       0.74      0.70      0.71      2065\n",
      "\n"
     ]
    }
   ],
   "source": [
    "from sklearn.tree import DecisionTreeClassifier\n",
    "\n",
    "model_DecisionTree= DecisionTreeClassifier(criterion= \"gini\",random_state=10)\n",
    "\n",
    "#fit the model on the data and predict the values\n",
    "\n",
    "model_DecisionTree.fit(x_train_res,y_train_res)\n",
    "\n",
    "y_pred= model_DecisionTree.predict(X_test)\n",
    "\n",
    "print(\"Classification Report\")\n",
    "print(classification_report(y_test, y_pred))"
   ]
  },
  {
   "cell_type": "markdown",
   "id": "45bcbceb",
   "metadata": {},
   "source": [
    "## KNN"
   ]
  },
  {
   "cell_type": "code",
   "execution_count": 59,
   "id": "7a2b2584",
   "metadata": {},
   "outputs": [
    {
     "name": "stdout",
     "output_type": "stream",
     "text": [
      "Classification Report:\n",
      "              precision    recall  f1-score   support\n",
      "\n",
      "           0       0.83      0.84      0.84      1623\n",
      "           1       0.39      0.37      0.38       442\n",
      "\n",
      "    accuracy                           0.74      2065\n",
      "   macro avg       0.61      0.61      0.61      2065\n",
      "weighted avg       0.74      0.74      0.74      2065\n",
      "\n"
     ]
    }
   ],
   "source": [
    "k_range = list(range(1, 15))\n",
    "scores = []\n",
    "\n",
    "for k in k_range:\n",
    "    knn = KNeighborsClassifier(n_neighbors=k)\n",
    "    knn.fit(x_train_res, y_train_res)\n",
    "    y_pred = knn.predict(X_test)\n",
    "    acc_pred = accuracy_score(y_test, y_pred)\n",
    "    scores.append(acc_pred)\n",
    "    \n",
    "knn = KNeighborsClassifier(n_neighbors=np.argmax(scores, axis=0)+1)\n",
    "knn.fit(x_train_res, y_train_res)\n",
    "y_pred = knn.predict(X_test)\n",
    "\n",
    "print(\"Classification Report:\",)\n",
    "print (classification_report(y_test, y_pred))"
   ]
  },
  {
   "cell_type": "markdown",
   "id": "c6edc6b3",
   "metadata": {},
   "source": [
    "## Random Forest using GridSearchCV"
   ]
  },
  {
   "cell_type": "code",
   "execution_count": 60,
   "id": "34ee57eb",
   "metadata": {},
   "outputs": [],
   "source": [
    "from sklearn.ensemble import RandomForestClassifier\n",
    "rfc=RandomForestClassifier(random_state=42)"
   ]
  },
  {
   "cell_type": "code",
   "execution_count": 73,
   "id": "7ded20a5",
   "metadata": {},
   "outputs": [
    {
     "data": {
      "text/plain": [
       "GridSearchCV(cv=5, estimator=RandomForestClassifier(random_state=42),\n",
       "             param_grid={'criterion': ['gini', 'entropy'],\n",
       "                         'max_depth': [4, 5, 6, 7, 8],\n",
       "                         'max_features': ['auto', 'sqrt', 'log2'],\n",
       "                         'n_estimators': [200, 500]})"
      ]
     },
     "execution_count": 73,
     "metadata": {},
     "output_type": "execute_result"
    }
   ],
   "source": [
    "param_grid = { \n",
    "    'n_estimators': [200, 500],\n",
    "    'max_features': ['auto', 'sqrt', 'log2'],\n",
    "    'max_depth' : [4,5,6,7,8],\n",
    "    'criterion' :['gini', 'entropy']\n",
    "}\n",
    "\n",
    "from sklearn.model_selection import GridSearchCV\n",
    "CV_rfc = GridSearchCV(estimator=rfc, param_grid=param_grid, cv= 5)\n",
    "CV_rfc.fit(X_train, y_train)"
   ]
  },
  {
   "cell_type": "code",
   "execution_count": 90,
   "id": "1d6d9e43",
   "metadata": {},
   "outputs": [
    {
     "data": {
      "text/plain": [
       "{'criterion': 'gini',\n",
       " 'max_depth': 6,\n",
       " 'max_features': 'auto',\n",
       " 'n_estimators': 500}"
      ]
     },
     "execution_count": 90,
     "metadata": {},
     "output_type": "execute_result"
    }
   ],
   "source": [
    "CV_rfc.best_params_"
   ]
  },
  {
   "cell_type": "code",
   "execution_count": 66,
   "id": "df43040e",
   "metadata": {},
   "outputs": [],
   "source": [
    "rfc1=RandomForestClassifier(random_state=42, max_features='auto', n_estimators= 500, max_depth=6, criterion='gini')\n",
    "rfc1.fit(x_train_res, y_train_res)\n",
    "pred=rfc1.predict(X_test)"
   ]
  },
  {
   "cell_type": "code",
   "execution_count": 68,
   "id": "44be2528",
   "metadata": {},
   "outputs": [
    {
     "name": "stdout",
     "output_type": "stream",
     "text": [
      "Classification Report\n",
      "              precision    recall  f1-score   support\n",
      "\n",
      "           0       0.88      0.71      0.79      1623\n",
      "           1       0.38      0.64      0.48       442\n",
      "\n",
      "    accuracy                           0.70      2065\n",
      "   macro avg       0.63      0.68      0.63      2065\n",
      "weighted avg       0.77      0.70      0.72      2065\n",
      "\n"
     ]
    }
   ],
   "source": [
    "print(\"Classification Report\")\n",
    "print(classification_report(y_test, pred))"
   ]
  },
  {
   "cell_type": "markdown",
   "id": "f9ac5c77",
   "metadata": {},
   "source": [
    "## XGBoost"
   ]
  },
  {
   "cell_type": "code",
   "execution_count": 64,
   "id": "995a6ab9",
   "metadata": {},
   "outputs": [
    {
     "name": "stdout",
     "output_type": "stream",
     "text": [
      "[01:13:10] WARNING: /opt/concourse/worker/volumes/live/7a2b9f41-3287-451b-6691-43e9a6c0910f/volume/xgboost-split_1619728204606/work/src/learner.cc:1061: Starting in XGBoost 1.3.0, the default evaluation metric used with the objective 'binary:logistic' was changed from 'error' to 'logloss'. Explicitly set eval_metric if you'd like to restore the old behavior.\n",
      "Classification Report\n",
      "              precision    recall  f1-score   support\n",
      "\n",
      "           0       0.83      0.90      0.86      1623\n",
      "           1       0.47      0.31      0.37       442\n",
      "\n",
      "    accuracy                           0.78      2065\n",
      "   macro avg       0.65      0.61      0.62      2065\n",
      "weighted avg       0.75      0.78      0.76      2065\n",
      "\n"
     ]
    }
   ],
   "source": [
    "import warnings\n",
    "warnings.filterwarnings(\"ignore\", category=UserWarning)\n",
    "from xgboost import XGBClassifier\n",
    "model = XGBClassifier()\n",
    "model.fit(x_train_res, y_train_res)\n",
    "\n",
    "y_pred = model.predict(X_test)\n",
    "\n",
    "print(\"Classification Report\")\n",
    "print(classification_report(y_test, y_pred))"
   ]
  },
  {
   "cell_type": "markdown",
   "id": "55ebcf5f",
   "metadata": {},
   "source": [
    "## ADA Boost (Adaptive Boost)"
   ]
  },
  {
   "cell_type": "code",
   "execution_count": 65,
   "id": "a056c84c",
   "metadata": {},
   "outputs": [
    {
     "name": "stdout",
     "output_type": "stream",
     "text": [
      "Classification Report\n",
      "              precision    recall  f1-score   support\n",
      "\n",
      "           0       0.87      0.73      0.79      1623\n",
      "           1       0.38      0.61      0.47       442\n",
      "\n",
      "    accuracy                           0.70      2065\n",
      "   macro avg       0.62      0.67      0.63      2065\n",
      "weighted avg       0.77      0.70      0.72      2065\n",
      "\n"
     ]
    }
   ],
   "source": [
    "# Load libraries\n",
    "from sklearn.ensemble import AdaBoostClassifier\n",
    "#Import scikit-learn metrics module for accuracy calculation\n",
    "from sklearn import metrics\n",
    "\n",
    "# Create adaboost classifer object\n",
    "abc = AdaBoostClassifier(n_estimators=50,\n",
    "                         learning_rate=1)\n",
    "# Train Adaboost Classifer\n",
    "model = abc.fit(x_train_res, y_train_res)\n",
    "\n",
    "#Predict the response for test dataset\n",
    "y_pred = model.predict(X_test)\n",
    "\n",
    "print(\"Classification Report\")\n",
    "print(classification_report(y_test, y_pred))"
   ]
  },
  {
   "cell_type": "markdown",
   "id": "865ec5e9",
   "metadata": {},
   "source": [
    "## SVM"
   ]
  },
  {
   "cell_type": "code",
   "execution_count": 70,
   "id": "8e883985",
   "metadata": {},
   "outputs": [
    {
     "name": "stdout",
     "output_type": "stream",
     "text": [
      "Classification Report\n",
      "              precision    recall  f1-score   support\n",
      "\n",
      "           0       0.88      0.66      0.76      1623\n",
      "           1       0.35      0.68      0.47       442\n",
      "\n",
      "    accuracy                           0.67      2065\n",
      "   macro avg       0.62      0.67      0.61      2065\n",
      "weighted avg       0.77      0.67      0.69      2065\n",
      "\n"
     ]
    }
   ],
   "source": [
    "# SVM\n",
    "from sklearn import svm\n",
    "sv = svm.SVC(kernel='linear')\n",
    "sv.fit(x_train_res, y_train_res)\n",
    "\n",
    "y_pred = sv.predict(X_test)\n",
    "\n",
    "print(\"Classification Report\")\n",
    "print(classification_report(y_test, y_pred))"
   ]
  },
  {
   "cell_type": "markdown",
   "id": "dfd1bdbb",
   "metadata": {},
   "source": [
    "# Let's try CV"
   ]
  },
  {
   "cell_type": "code",
   "execution_count": 85,
   "id": "18efd586",
   "metadata": {},
   "outputs": [],
   "source": [
    "from sklearn.model_selection import cross_val_score"
   ]
  },
  {
   "cell_type": "code",
   "execution_count": 105,
   "id": "00415b9c",
   "metadata": {},
   "outputs": [
    {
     "name": "stdout",
     "output_type": "stream",
     "text": [
      "[0.72639225 0.72397094 0.7566586  0.7251816  0.72881356 0.72397094\n",
      " 0.71549637 0.72276029 0.70702179 0.73454545]\n",
      "cv_scores mean:0.7264811798371121\n"
     ]
    }
   ],
   "source": [
    "#create a new KNN model\n",
    "knn_cv = KNeighborsClassifier(n_neighbors=3)\n",
    "#train model with cv of 5 \n",
    "cv_scores = cross_val_score(knn_cv, X, y, cv=10)\n",
    "#print each cv score (accuracy) and average them\n",
    "print(cv_scores)\n",
    "print('cv_scores mean:{}'.format(np.mean(cv_scores)))"
   ]
  },
  {
   "cell_type": "code",
   "execution_count": 98,
   "id": "9a8ee5d2",
   "metadata": {},
   "outputs": [],
   "source": [
    "from imblearn.pipeline import Pipeline, make_pipeline"
   ]
  },
  {
   "cell_type": "code",
   "execution_count": 104,
   "id": "a1262067",
   "metadata": {},
   "outputs": [
    {
     "name": "stdout",
     "output_type": "stream",
     "text": [
      "[0.73486683 0.7433414  0.75544794 0.72760291 0.71791768 0.7433414\n",
      " 0.76271186 0.73123487 0.74213075 0.73939394]\n",
      "cv_scores mean:0.7397989581040428\n"
     ]
    }
   ],
   "source": [
    "imba_pipeline = make_pipeline(SMOTE(random_state=42), \n",
    "                              RandomForestClassifier(n_estimators=500, random_state=42))\n",
    "#create a new KNN model\n",
    "model = imba_pipeline\n",
    "#train model with cv of 5 \n",
    "cv_scores = cross_val_score(model, X, y, cv=10)\n",
    "#print each cv score (accuracy) and average them\n",
    "print(cv_scores)\n",
    "print('cv_scores mean:{}'.format(np.mean(cv_scores)))"
   ]
  }
 ],
 "metadata": {
  "kernelspec": {
   "display_name": "Python 3",
   "language": "python",
   "name": "python3"
  },
  "language_info": {
   "codemirror_mode": {
    "name": "ipython",
    "version": 3
   },
   "file_extension": ".py",
   "mimetype": "text/x-python",
   "name": "python",
   "nbconvert_exporter": "python",
   "pygments_lexer": "ipython3",
   "version": "3.8.8"
  }
 },
 "nbformat": 4,
 "nbformat_minor": 5
}
