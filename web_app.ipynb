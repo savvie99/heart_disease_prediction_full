{
 "cells": [
  {
   "cell_type": "code",
   "execution_count": null,
   "id": "65842df6",
   "metadata": {},
   "outputs": [],
   "source": [
    "# -*- coding: utf-8 -*-\n",
    "\n",
    "import numpy as np\n",
    "import pickle\n",
    "from flask import Flask, request, render_template\n",
    "\n",
    "# Load ML model\n",
    "model = pickle.load(open('model.pkl', 'rb')) \n",
    "\n",
    "# Create application\n",
    "app = Flask(__name__)\n",
    "\n",
    "# Bind home function to URL\n",
    "@app.route('/')\n",
    "def home():\n",
    "    return render_template('Heart Disease Classifier.html')\n",
    "\n",
    "# Bind predict function to URL\n",
    "@app.route('/predict', methods =['POST'])\n",
    "def predict():\n",
    "    \n",
    "    # Put all form entries values in a list \n",
    "    features = [float(i) for i in request.form.values()]\n",
    "    # Convert features to array\n",
    "    array_features = [np.array(features)]\n",
    "    # Predict features\n",
    "    prediction = model.predict(array_features)\n",
    "    \n",
    "    output = prediction\n",
    "    \n",
    "    # Check the output values and retrive the result with html tag based on the value\n",
    "    if output == 0:\n",
    "        return render_template('Heart Disease Classifier.html', \n",
    "                               result = 'The patient is not likely to have heart disease!')\n",
    "    else:\n",
    "        return render_template('Heart Disease Classifier.html', \n",
    "                               result = 'The patient is likely to have heart disease!')\n",
    "\n",
    "if __name__ == '__main__':\n",
    "#Run the application\n",
    "    app.run()\n",
    "    \n",
    "    "
   ]
  }
 ],
 "metadata": {
  "kernelspec": {
   "display_name": "Python 3",
   "language": "python",
   "name": "python3"
  },
  "language_info": {
   "codemirror_mode": {
    "name": "ipython",
    "version": 3
   },
   "file_extension": ".py",
   "mimetype": "text/x-python",
   "name": "python",
   "nbconvert_exporter": "python",
   "pygments_lexer": "ipython3",
   "version": "3.8.8"
  }
 },
 "nbformat": 4,
 "nbformat_minor": 5
}
