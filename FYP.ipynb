{
 "cells": [
  {
   "cell_type": "markdown",
   "id": "e76b11a3",
   "metadata": {},
   "source": [
    "## Importing the libraries"
   ]
  },
  {
   "cell_type": "code",
   "execution_count": 1,
   "id": "57b0d501",
   "metadata": {},
   "outputs": [],
   "source": [
    "import pandas as pd\n",
    "import numpy as np\n",
    "import seaborn as sns\n",
    "\n",
    "import matplotlib.pyplot as plt\n",
    "import matplotlib.mlab as mlab\n",
    "import matplotlib\n",
    "plt.style.use('ggplot')\n",
    "from matplotlib.pyplot import figure\n",
    "pd.options.mode.chained_assignment = None\n",
    "\n",
    "from sklearn.feature_selection import SelectKBest\n",
    "from sklearn.feature_selection import chi2\n",
    "\n",
    "from sklearn.ensemble import RandomForestClassifier\n",
    "from sklearn.tree import DecisionTreeClassifier\n",
    "from sklearn.linear_model import LogisticRegression\n",
    "from sklearn import svm\n",
    "\n",
    "from sklearn.metrics import classification_report, confusion_matrix\n",
    "from sklearn.ensemble import GradientBoostingClassifier\n",
    "from sklearn.neighbors import KNeighborsClassifier\n",
    "from sklearn.model_selection import GridSearchCV, StratifiedKFold\n",
    "\n",
    "import warnings\n",
    "warnings.filterwarnings(\"ignore\", category=UserWarning)\n",
    "from xgboost import XGBClassifier\n",
    "\n",
    "from sklearn.model_selection import train_test_split\n",
    "from sklearn.ensemble import AdaBoostClassifier\n",
    "from sklearn.model_selection import cross_validate\n",
    "from sklearn import metrics\n",
    "\n",
    "from imblearn.pipeline import Pipeline\n",
    "from imblearn.under_sampling import RandomUnderSampler\n",
    "from imblearn.over_sampling import SMOTE\n",
    "\n",
    "from sklearn.metrics import f1_score, accuracy_score, recall_score\n",
    "\n",
    "%matplotlib inline \n",
    "matplotlib.rcParams['figure.figsize'] = (12,8)"
   ]
  },
  {
   "cell_type": "markdown",
   "id": "677ab6aa",
   "metadata": {},
   "source": [
    "## Importing the dataset"
   ]
  },
  {
   "cell_type": "code",
   "execution_count": 2,
   "id": "d6577076",
   "metadata": {},
   "outputs": [],
   "source": [
    "# read the data\n",
    "df = pd.read_csv('dataset.csv')"
   ]
  },
  {
   "cell_type": "markdown",
   "id": "59e990ff",
   "metadata": {},
   "source": [
    "## Exploratory data analysis and Data cleaning"
   ]
  },
  {
   "cell_type": "code",
   "execution_count": 3,
   "id": "f1cb40bb",
   "metadata": {},
   "outputs": [
    {
     "data": {
      "text/html": [
       "<div>\n",
       "<style scoped>\n",
       "    .dataframe tbody tr th:only-of-type {\n",
       "        vertical-align: middle;\n",
       "    }\n",
       "\n",
       "    .dataframe tbody tr th {\n",
       "        vertical-align: top;\n",
       "    }\n",
       "\n",
       "    .dataframe thead th {\n",
       "        text-align: right;\n",
       "    }\n",
       "</style>\n",
       "<table border=\"1\" class=\"dataframe\">\n",
       "  <thead>\n",
       "    <tr style=\"text-align: right;\">\n",
       "      <th></th>\n",
       "      <th>RANDID</th>\n",
       "      <th>SEX</th>\n",
       "      <th>TOTCHOL</th>\n",
       "      <th>AGE</th>\n",
       "      <th>SYSBP</th>\n",
       "      <th>DIABP</th>\n",
       "      <th>CURSMOKE</th>\n",
       "      <th>CIGPDAY</th>\n",
       "      <th>BMI</th>\n",
       "      <th>DIABETES</th>\n",
       "      <th>...</th>\n",
       "      <th>CVD</th>\n",
       "      <th>HYPERTEN</th>\n",
       "      <th>TIMEAP</th>\n",
       "      <th>TIMEMI</th>\n",
       "      <th>TIMEMIFC</th>\n",
       "      <th>TIMECHD</th>\n",
       "      <th>TIMESTRK</th>\n",
       "      <th>TIMECVD</th>\n",
       "      <th>TIMEDTH</th>\n",
       "      <th>TIMEHYP</th>\n",
       "    </tr>\n",
       "  </thead>\n",
       "  <tbody>\n",
       "    <tr>\n",
       "      <th>count</th>\n",
       "      <td>1.162700e+04</td>\n",
       "      <td>11627.000000</td>\n",
       "      <td>11218.000000</td>\n",
       "      <td>11627.000000</td>\n",
       "      <td>11627.000000</td>\n",
       "      <td>11627.000000</td>\n",
       "      <td>11627.000000</td>\n",
       "      <td>11548.000000</td>\n",
       "      <td>11575.000000</td>\n",
       "      <td>11627.000000</td>\n",
       "      <td>...</td>\n",
       "      <td>11627.000000</td>\n",
       "      <td>11627.000000</td>\n",
       "      <td>11627.000000</td>\n",
       "      <td>11627.000000</td>\n",
       "      <td>11627.000000</td>\n",
       "      <td>11627.000000</td>\n",
       "      <td>11627.000000</td>\n",
       "      <td>11627.000000</td>\n",
       "      <td>11627.000000</td>\n",
       "      <td>11627.000000</td>\n",
       "    </tr>\n",
       "    <tr>\n",
       "      <th>mean</th>\n",
       "      <td>5.004741e+06</td>\n",
       "      <td>1.568074</td>\n",
       "      <td>241.162418</td>\n",
       "      <td>54.792810</td>\n",
       "      <td>136.324116</td>\n",
       "      <td>83.037757</td>\n",
       "      <td>0.432528</td>\n",
       "      <td>8.250346</td>\n",
       "      <td>25.877349</td>\n",
       "      <td>0.045584</td>\n",
       "      <td>...</td>\n",
       "      <td>0.249333</td>\n",
       "      <td>0.743270</td>\n",
       "      <td>7241.556893</td>\n",
       "      <td>7593.846736</td>\n",
       "      <td>7543.036725</td>\n",
       "      <td>7008.153608</td>\n",
       "      <td>7660.880021</td>\n",
       "      <td>7166.082996</td>\n",
       "      <td>7854.102950</td>\n",
       "      <td>3598.956395</td>\n",
       "    </tr>\n",
       "    <tr>\n",
       "      <th>std</th>\n",
       "      <td>2.900877e+06</td>\n",
       "      <td>0.495366</td>\n",
       "      <td>45.368030</td>\n",
       "      <td>9.564299</td>\n",
       "      <td>22.798625</td>\n",
       "      <td>11.660144</td>\n",
       "      <td>0.495448</td>\n",
       "      <td>12.186888</td>\n",
       "      <td>4.102640</td>\n",
       "      <td>0.208589</td>\n",
       "      <td>...</td>\n",
       "      <td>0.432646</td>\n",
       "      <td>0.436848</td>\n",
       "      <td>2477.780010</td>\n",
       "      <td>2136.730285</td>\n",
       "      <td>2192.120311</td>\n",
       "      <td>2641.344513</td>\n",
       "      <td>2011.077091</td>\n",
       "      <td>2541.668477</td>\n",
       "      <td>1788.369623</td>\n",
       "      <td>3464.164659</td>\n",
       "    </tr>\n",
       "    <tr>\n",
       "      <th>min</th>\n",
       "      <td>2.448000e+03</td>\n",
       "      <td>1.000000</td>\n",
       "      <td>107.000000</td>\n",
       "      <td>32.000000</td>\n",
       "      <td>83.500000</td>\n",
       "      <td>30.000000</td>\n",
       "      <td>0.000000</td>\n",
       "      <td>0.000000</td>\n",
       "      <td>14.430000</td>\n",
       "      <td>0.000000</td>\n",
       "      <td>...</td>\n",
       "      <td>0.000000</td>\n",
       "      <td>0.000000</td>\n",
       "      <td>0.000000</td>\n",
       "      <td>0.000000</td>\n",
       "      <td>0.000000</td>\n",
       "      <td>0.000000</td>\n",
       "      <td>0.000000</td>\n",
       "      <td>0.000000</td>\n",
       "      <td>26.000000</td>\n",
       "      <td>0.000000</td>\n",
       "    </tr>\n",
       "    <tr>\n",
       "      <th>25%</th>\n",
       "      <td>2.474378e+06</td>\n",
       "      <td>1.000000</td>\n",
       "      <td>210.000000</td>\n",
       "      <td>48.000000</td>\n",
       "      <td>120.000000</td>\n",
       "      <td>75.000000</td>\n",
       "      <td>0.000000</td>\n",
       "      <td>0.000000</td>\n",
       "      <td>23.095000</td>\n",
       "      <td>0.000000</td>\n",
       "      <td>...</td>\n",
       "      <td>0.000000</td>\n",
       "      <td>0.000000</td>\n",
       "      <td>6224.000000</td>\n",
       "      <td>7212.000000</td>\n",
       "      <td>7049.500000</td>\n",
       "      <td>5598.500000</td>\n",
       "      <td>7295.000000</td>\n",
       "      <td>6004.000000</td>\n",
       "      <td>7797.500000</td>\n",
       "      <td>0.000000</td>\n",
       "    </tr>\n",
       "    <tr>\n",
       "      <th>50%</th>\n",
       "      <td>5.006008e+06</td>\n",
       "      <td>2.000000</td>\n",
       "      <td>238.000000</td>\n",
       "      <td>54.000000</td>\n",
       "      <td>132.000000</td>\n",
       "      <td>82.000000</td>\n",
       "      <td>0.000000</td>\n",
       "      <td>0.000000</td>\n",
       "      <td>25.480000</td>\n",
       "      <td>0.000000</td>\n",
       "      <td>...</td>\n",
       "      <td>0.000000</td>\n",
       "      <td>1.000000</td>\n",
       "      <td>8766.000000</td>\n",
       "      <td>8766.000000</td>\n",
       "      <td>8766.000000</td>\n",
       "      <td>8766.000000</td>\n",
       "      <td>8766.000000</td>\n",
       "      <td>8766.000000</td>\n",
       "      <td>8766.000000</td>\n",
       "      <td>2429.000000</td>\n",
       "    </tr>\n",
       "    <tr>\n",
       "      <th>75%</th>\n",
       "      <td>7.472730e+06</td>\n",
       "      <td>2.000000</td>\n",
       "      <td>268.000000</td>\n",
       "      <td>62.000000</td>\n",
       "      <td>149.000000</td>\n",
       "      <td>90.000000</td>\n",
       "      <td>1.000000</td>\n",
       "      <td>20.000000</td>\n",
       "      <td>28.070000</td>\n",
       "      <td>0.000000</td>\n",
       "      <td>...</td>\n",
       "      <td>0.000000</td>\n",
       "      <td>1.000000</td>\n",
       "      <td>8766.000000</td>\n",
       "      <td>8766.000000</td>\n",
       "      <td>8766.000000</td>\n",
       "      <td>8766.000000</td>\n",
       "      <td>8766.000000</td>\n",
       "      <td>8766.000000</td>\n",
       "      <td>8766.000000</td>\n",
       "      <td>7329.000000</td>\n",
       "    </tr>\n",
       "    <tr>\n",
       "      <th>max</th>\n",
       "      <td>9.999312e+06</td>\n",
       "      <td>2.000000</td>\n",
       "      <td>696.000000</td>\n",
       "      <td>81.000000</td>\n",
       "      <td>295.000000</td>\n",
       "      <td>150.000000</td>\n",
       "      <td>1.000000</td>\n",
       "      <td>90.000000</td>\n",
       "      <td>56.800000</td>\n",
       "      <td>1.000000</td>\n",
       "      <td>...</td>\n",
       "      <td>1.000000</td>\n",
       "      <td>1.000000</td>\n",
       "      <td>8766.000000</td>\n",
       "      <td>8766.000000</td>\n",
       "      <td>8766.000000</td>\n",
       "      <td>8766.000000</td>\n",
       "      <td>8766.000000</td>\n",
       "      <td>8766.000000</td>\n",
       "      <td>8766.000000</td>\n",
       "      <td>8766.000000</td>\n",
       "    </tr>\n",
       "  </tbody>\n",
       "</table>\n",
       "<p>8 rows × 39 columns</p>\n",
       "</div>"
      ],
      "text/plain": [
       "             RANDID           SEX       TOTCHOL           AGE         SYSBP  \\\n",
       "count  1.162700e+04  11627.000000  11218.000000  11627.000000  11627.000000   \n",
       "mean   5.004741e+06      1.568074    241.162418     54.792810    136.324116   \n",
       "std    2.900877e+06      0.495366     45.368030      9.564299     22.798625   \n",
       "min    2.448000e+03      1.000000    107.000000     32.000000     83.500000   \n",
       "25%    2.474378e+06      1.000000    210.000000     48.000000    120.000000   \n",
       "50%    5.006008e+06      2.000000    238.000000     54.000000    132.000000   \n",
       "75%    7.472730e+06      2.000000    268.000000     62.000000    149.000000   \n",
       "max    9.999312e+06      2.000000    696.000000     81.000000    295.000000   \n",
       "\n",
       "              DIABP      CURSMOKE       CIGPDAY           BMI      DIABETES  \\\n",
       "count  11627.000000  11627.000000  11548.000000  11575.000000  11627.000000   \n",
       "mean      83.037757      0.432528      8.250346     25.877349      0.045584   \n",
       "std       11.660144      0.495448     12.186888      4.102640      0.208589   \n",
       "min       30.000000      0.000000      0.000000     14.430000      0.000000   \n",
       "25%       75.000000      0.000000      0.000000     23.095000      0.000000   \n",
       "50%       82.000000      0.000000      0.000000     25.480000      0.000000   \n",
       "75%       90.000000      1.000000     20.000000     28.070000      0.000000   \n",
       "max      150.000000      1.000000     90.000000     56.800000      1.000000   \n",
       "\n",
       "       ...           CVD      HYPERTEN        TIMEAP        TIMEMI  \\\n",
       "count  ...  11627.000000  11627.000000  11627.000000  11627.000000   \n",
       "mean   ...      0.249333      0.743270   7241.556893   7593.846736   \n",
       "std    ...      0.432646      0.436848   2477.780010   2136.730285   \n",
       "min    ...      0.000000      0.000000      0.000000      0.000000   \n",
       "25%    ...      0.000000      0.000000   6224.000000   7212.000000   \n",
       "50%    ...      0.000000      1.000000   8766.000000   8766.000000   \n",
       "75%    ...      0.000000      1.000000   8766.000000   8766.000000   \n",
       "max    ...      1.000000      1.000000   8766.000000   8766.000000   \n",
       "\n",
       "           TIMEMIFC       TIMECHD      TIMESTRK       TIMECVD       TIMEDTH  \\\n",
       "count  11627.000000  11627.000000  11627.000000  11627.000000  11627.000000   \n",
       "mean    7543.036725   7008.153608   7660.880021   7166.082996   7854.102950   \n",
       "std     2192.120311   2641.344513   2011.077091   2541.668477   1788.369623   \n",
       "min        0.000000      0.000000      0.000000      0.000000     26.000000   \n",
       "25%     7049.500000   5598.500000   7295.000000   6004.000000   7797.500000   \n",
       "50%     8766.000000   8766.000000   8766.000000   8766.000000   8766.000000   \n",
       "75%     8766.000000   8766.000000   8766.000000   8766.000000   8766.000000   \n",
       "max     8766.000000   8766.000000   8766.000000   8766.000000   8766.000000   \n",
       "\n",
       "            TIMEHYP  \n",
       "count  11627.000000  \n",
       "mean    3598.956395  \n",
       "std     3464.164659  \n",
       "min        0.000000  \n",
       "25%        0.000000  \n",
       "50%     2429.000000  \n",
       "75%     7329.000000  \n",
       "max     8766.000000  \n",
       "\n",
       "[8 rows x 39 columns]"
      ]
     },
     "execution_count": 3,
     "metadata": {},
     "output_type": "execute_result"
    }
   ],
   "source": [
    "df.describe() # describe the dataset to view some properties and check the columns"
   ]
  },
  {
   "cell_type": "code",
   "execution_count": 4,
   "id": "e8c4f54b",
   "metadata": {},
   "outputs": [
    {
     "data": {
      "text/html": [
       "<div>\n",
       "<style scoped>\n",
       "    .dataframe tbody tr th:only-of-type {\n",
       "        vertical-align: middle;\n",
       "    }\n",
       "\n",
       "    .dataframe tbody tr th {\n",
       "        vertical-align: top;\n",
       "    }\n",
       "\n",
       "    .dataframe thead th {\n",
       "        text-align: right;\n",
       "    }\n",
       "</style>\n",
       "<table border=\"1\" class=\"dataframe\">\n",
       "  <thead>\n",
       "    <tr style=\"text-align: right;\">\n",
       "      <th></th>\n",
       "      <th>RANDID</th>\n",
       "      <th>SEX</th>\n",
       "      <th>TOTCHOL</th>\n",
       "      <th>AGE</th>\n",
       "      <th>SYSBP</th>\n",
       "      <th>DIABP</th>\n",
       "      <th>CURSMOKE</th>\n",
       "      <th>CIGPDAY</th>\n",
       "      <th>BMI</th>\n",
       "      <th>DIABETES</th>\n",
       "      <th>...</th>\n",
       "      <th>CVD</th>\n",
       "      <th>HYPERTEN</th>\n",
       "      <th>TIMEAP</th>\n",
       "      <th>TIMEMI</th>\n",
       "      <th>TIMEMIFC</th>\n",
       "      <th>TIMECHD</th>\n",
       "      <th>TIMESTRK</th>\n",
       "      <th>TIMECVD</th>\n",
       "      <th>TIMEDTH</th>\n",
       "      <th>TIMEHYP</th>\n",
       "    </tr>\n",
       "  </thead>\n",
       "  <tbody>\n",
       "    <tr>\n",
       "      <th>0</th>\n",
       "      <td>2448</td>\n",
       "      <td>1</td>\n",
       "      <td>195.0</td>\n",
       "      <td>39</td>\n",
       "      <td>106.0</td>\n",
       "      <td>70.0</td>\n",
       "      <td>0</td>\n",
       "      <td>0.0</td>\n",
       "      <td>26.97</td>\n",
       "      <td>0</td>\n",
       "      <td>...</td>\n",
       "      <td>1</td>\n",
       "      <td>0</td>\n",
       "      <td>8766</td>\n",
       "      <td>6438</td>\n",
       "      <td>6438</td>\n",
       "      <td>6438</td>\n",
       "      <td>8766</td>\n",
       "      <td>6438</td>\n",
       "      <td>8766</td>\n",
       "      <td>8766</td>\n",
       "    </tr>\n",
       "    <tr>\n",
       "      <th>1</th>\n",
       "      <td>2448</td>\n",
       "      <td>1</td>\n",
       "      <td>209.0</td>\n",
       "      <td>52</td>\n",
       "      <td>121.0</td>\n",
       "      <td>66.0</td>\n",
       "      <td>0</td>\n",
       "      <td>0.0</td>\n",
       "      <td>NaN</td>\n",
       "      <td>0</td>\n",
       "      <td>...</td>\n",
       "      <td>1</td>\n",
       "      <td>0</td>\n",
       "      <td>8766</td>\n",
       "      <td>6438</td>\n",
       "      <td>6438</td>\n",
       "      <td>6438</td>\n",
       "      <td>8766</td>\n",
       "      <td>6438</td>\n",
       "      <td>8766</td>\n",
       "      <td>8766</td>\n",
       "    </tr>\n",
       "    <tr>\n",
       "      <th>2</th>\n",
       "      <td>6238</td>\n",
       "      <td>2</td>\n",
       "      <td>250.0</td>\n",
       "      <td>46</td>\n",
       "      <td>121.0</td>\n",
       "      <td>81.0</td>\n",
       "      <td>0</td>\n",
       "      <td>0.0</td>\n",
       "      <td>28.73</td>\n",
       "      <td>0</td>\n",
       "      <td>...</td>\n",
       "      <td>0</td>\n",
       "      <td>0</td>\n",
       "      <td>8766</td>\n",
       "      <td>8766</td>\n",
       "      <td>8766</td>\n",
       "      <td>8766</td>\n",
       "      <td>8766</td>\n",
       "      <td>8766</td>\n",
       "      <td>8766</td>\n",
       "      <td>8766</td>\n",
       "    </tr>\n",
       "    <tr>\n",
       "      <th>3</th>\n",
       "      <td>6238</td>\n",
       "      <td>2</td>\n",
       "      <td>260.0</td>\n",
       "      <td>52</td>\n",
       "      <td>105.0</td>\n",
       "      <td>69.5</td>\n",
       "      <td>0</td>\n",
       "      <td>0.0</td>\n",
       "      <td>29.43</td>\n",
       "      <td>0</td>\n",
       "      <td>...</td>\n",
       "      <td>0</td>\n",
       "      <td>0</td>\n",
       "      <td>8766</td>\n",
       "      <td>8766</td>\n",
       "      <td>8766</td>\n",
       "      <td>8766</td>\n",
       "      <td>8766</td>\n",
       "      <td>8766</td>\n",
       "      <td>8766</td>\n",
       "      <td>8766</td>\n",
       "    </tr>\n",
       "    <tr>\n",
       "      <th>4</th>\n",
       "      <td>6238</td>\n",
       "      <td>2</td>\n",
       "      <td>237.0</td>\n",
       "      <td>58</td>\n",
       "      <td>108.0</td>\n",
       "      <td>66.0</td>\n",
       "      <td>0</td>\n",
       "      <td>0.0</td>\n",
       "      <td>28.50</td>\n",
       "      <td>0</td>\n",
       "      <td>...</td>\n",
       "      <td>0</td>\n",
       "      <td>0</td>\n",
       "      <td>8766</td>\n",
       "      <td>8766</td>\n",
       "      <td>8766</td>\n",
       "      <td>8766</td>\n",
       "      <td>8766</td>\n",
       "      <td>8766</td>\n",
       "      <td>8766</td>\n",
       "      <td>8766</td>\n",
       "    </tr>\n",
       "  </tbody>\n",
       "</table>\n",
       "<p>5 rows × 39 columns</p>\n",
       "</div>"
      ],
      "text/plain": [
       "   RANDID  SEX  TOTCHOL  AGE  SYSBP  DIABP  CURSMOKE  CIGPDAY    BMI  \\\n",
       "0    2448    1    195.0   39  106.0   70.0         0      0.0  26.97   \n",
       "1    2448    1    209.0   52  121.0   66.0         0      0.0    NaN   \n",
       "2    6238    2    250.0   46  121.0   81.0         0      0.0  28.73   \n",
       "3    6238    2    260.0   52  105.0   69.5         0      0.0  29.43   \n",
       "4    6238    2    237.0   58  108.0   66.0         0      0.0  28.50   \n",
       "\n",
       "   DIABETES  ...  CVD  HYPERTEN  TIMEAP  TIMEMI  TIMEMIFC  TIMECHD  TIMESTRK  \\\n",
       "0         0  ...    1         0    8766    6438      6438     6438      8766   \n",
       "1         0  ...    1         0    8766    6438      6438     6438      8766   \n",
       "2         0  ...    0         0    8766    8766      8766     8766      8766   \n",
       "3         0  ...    0         0    8766    8766      8766     8766      8766   \n",
       "4         0  ...    0         0    8766    8766      8766     8766      8766   \n",
       "\n",
       "   TIMECVD  TIMEDTH  TIMEHYP  \n",
       "0     6438     8766     8766  \n",
       "1     6438     8766     8766  \n",
       "2     8766     8766     8766  \n",
       "3     8766     8766     8766  \n",
       "4     8766     8766     8766  \n",
       "\n",
       "[5 rows x 39 columns]"
      ]
     },
     "execution_count": 4,
     "metadata": {},
     "output_type": "execute_result"
    }
   ],
   "source": [
    "df.head()"
   ]
  },
  {
   "cell_type": "code",
   "execution_count": 5,
   "id": "4278f84c",
   "metadata": {},
   "outputs": [
    {
     "data": {
      "text/plain": [
       "RANDID        int64\n",
       "SEX           int64\n",
       "TOTCHOL     float64\n",
       "AGE           int64\n",
       "SYSBP       float64\n",
       "DIABP       float64\n",
       "CURSMOKE      int64\n",
       "CIGPDAY     float64\n",
       "BMI         float64\n",
       "DIABETES      int64\n",
       "BPMEDS      float64\n",
       "HEARTRTE    float64\n",
       "GLUCOSE     float64\n",
       "educ        float64\n",
       "PREVCHD       int64\n",
       "PREVAP        int64\n",
       "PREVMI        int64\n",
       "PREVSTRK      int64\n",
       "PREVHYP       int64\n",
       "TIME          int64\n",
       "PERIOD        int64\n",
       "HDLC        float64\n",
       "LDLC        float64\n",
       "DEATH         int64\n",
       "ANGINA        int64\n",
       "HOSPMI        int64\n",
       "MI_FCHD       int64\n",
       "ANYCHD        int64\n",
       "STROKE        int64\n",
       "CVD           int64\n",
       "HYPERTEN      int64\n",
       "TIMEAP        int64\n",
       "TIMEMI        int64\n",
       "TIMEMIFC      int64\n",
       "TIMECHD       int64\n",
       "TIMESTRK      int64\n",
       "TIMECVD       int64\n",
       "TIMEDTH       int64\n",
       "TIMEHYP       int64\n",
       "dtype: object"
      ]
     },
     "execution_count": 5,
     "metadata": {},
     "output_type": "execute_result"
    }
   ],
   "source": [
    "# see the types of variables\n",
    "df.dtypes"
   ]
  },
  {
   "cell_type": "code",
   "execution_count": 6,
   "id": "95df8f0d",
   "metadata": {},
   "outputs": [
    {
     "data": {
      "text/plain": [
       "(11627, 39)"
      ]
     },
     "execution_count": 6,
     "metadata": {},
     "output_type": "execute_result"
    }
   ],
   "source": [
    "# view the initial shape of our dataset\n",
    "df.shape"
   ]
  },
  {
   "cell_type": "code",
   "execution_count": 7,
   "id": "bfa66d72",
   "metadata": {},
   "outputs": [],
   "source": [
    "#drop irrelevant columns\n",
    "cols_to_drop=['RANDID','educ','TIMECVD','TIME','PERIOD','HDLC','LDLC','ANGINA','HOSPMI', 'MI_FCHD', 'ANYCHD','STROKE','HYPERTEN', 'DEATH','TIMEAP','TIMEMI', 'TIMEMIFC','TIMECHD', 'TIMESTRK', 'TIMEHYP','TIMEDTH']\n",
    "df=df.drop(cols_to_drop, axis=1) #axis=1 because we are dropping columns, not rows"
   ]
  },
  {
   "cell_type": "code",
   "execution_count": 8,
   "id": "04883cc3",
   "metadata": {},
   "outputs": [
    {
     "data": {
      "text/plain": [
       "(11627, 18)"
      ]
     },
     "execution_count": 8,
     "metadata": {},
     "output_type": "execute_result"
    }
   ],
   "source": [
    "# view the shape again\n",
    "df.shape"
   ]
  },
  {
   "cell_type": "code",
   "execution_count": 9,
   "id": "46c8fc5b",
   "metadata": {},
   "outputs": [
    {
     "data": {
      "text/plain": [
       "<AxesSubplot:>"
      ]
     },
     "execution_count": 9,
     "metadata": {},
     "output_type": "execute_result"
    },
    {
     "data": {
      "image/png": "[encoded data removed]",
      "text/plain": [
       "<Figure size 864x576 with 2 Axes>"
      ]
     },
     "metadata": {
      "needs_background": "light"
     },
     "output_type": "display_data"
    }
   ],
   "source": [
    "# check for missing values and plot a heatmap\n",
    "colours = ['#000099', '#ffff00']\n",
    "sns.heatmap(df.isnull(), cmap=sns.color_palette(colours))"
   ]
  },
  {
   "cell_type": "code",
   "execution_count": 10,
   "id": "275a3165",
   "metadata": {},
   "outputs": [
    {
     "data": {
      "text/plain": [
       "2579"
      ]
     },
     "execution_count": 10,
     "metadata": {},
     "output_type": "execute_result"
    }
   ],
   "source": [
    "df.isnull().sum().sum() # print number of rows with missing values"
   ]
  },
  {
   "cell_type": "code",
   "execution_count": 11,
   "id": "f32f44dd",
   "metadata": {},
   "outputs": [
    {
     "name": "stdout",
     "output_type": "stream",
     "text": [
      "SEX            0\n",
      "TOTCHOL      409\n",
      "AGE            0\n",
      "SYSBP          0\n",
      "DIABP          0\n",
      "CURSMOKE       0\n",
      "CIGPDAY       79\n",
      "BMI           52\n",
      "DIABETES       0\n",
      "BPMEDS       593\n",
      "HEARTRTE       6\n",
      "GLUCOSE     1440\n",
      "PREVCHD        0\n",
      "PREVAP         0\n",
      "PREVMI         0\n",
      "PREVSTRK       0\n",
      "PREVHYP        0\n",
      "CVD            0\n",
      "dtype: int64\n"
     ]
    }
   ],
   "source": [
    "print(df.isnull().sum()) # view number of missing values in each column"
   ]
  },
  {
   "cell_type": "code",
   "execution_count": 12,
   "id": "76a5c663",
   "metadata": {},
   "outputs": [
    {
     "data": {
      "text/plain": [
       "0"
      ]
     },
     "execution_count": 12,
     "metadata": {},
     "output_type": "execute_result"
    }
   ],
   "source": [
    "# not many so we can drop them all\n",
    "df=df.dropna()# drop the observations that contain missing values\n",
    "df.isnull().sum().sum() # print number of rows with missing values after dropping the rows"
   ]
  },
  {
   "cell_type": "code",
   "execution_count": 13,
   "id": "a3319cbc",
   "metadata": {},
   "outputs": [
    {
     "data": {
      "text/plain": [
       "0"
      ]
     },
     "execution_count": 13,
     "metadata": {},
     "output_type": "execute_result"
    }
   ],
   "source": [
    "# check for duplicate values\n",
    "df.duplicated().sum()"
   ]
  },
  {
   "cell_type": "code",
   "execution_count": 14,
   "id": "03db1164",
   "metadata": {},
   "outputs": [
    {
     "data": {
      "image/png": "[encoded data removed]",
      "text/plain": [
       "<Figure size 1440x1080 with 20 Axes>"
      ]
     },
     "metadata": {
      "needs_background": "light"
     },
     "output_type": "display_data"
    }
   ],
   "source": [
    "df.hist(bins=20, figsize=(20,15))\n",
    "plt.show()"
   ]
  },
  {
   "cell_type": "code",
   "execution_count": 15,
   "id": "89bd174f",
   "metadata": {},
   "outputs": [
    {
     "data": {
      "text/plain": [
       "0    7146\n",
       "1    2414\n",
       "Name: CVD, dtype: int64"
      ]
     },
     "execution_count": 15,
     "metadata": {},
     "output_type": "execute_result"
    }
   ],
   "source": [
    "# have a better look at the class variable\n",
    "df.CVD.value_counts()"
   ]
  },
  {
   "cell_type": "code",
   "execution_count": 16,
   "id": "042e2ba7",
   "metadata": {},
   "outputs": [
    {
     "data": {
      "text/plain": [
       "<AxesSubplot:xlabel='CVD', ylabel='count'>"
      ]
     },
     "execution_count": 16,
     "metadata": {},
     "output_type": "execute_result"
    },
    {
     "data": {
      "image/png": "[encoded data removed]",
      "text/plain": [
       "<Figure size 864x576 with 1 Axes>"
      ]
     },
     "metadata": {
      "needs_background": "light"
     },
     "output_type": "display_data"
    }
   ],
   "source": [
    "# visualise the class variable\n",
    "sns.countplot(x='CVD',data=df)"
   ]
  },
  {
   "cell_type": "code",
   "execution_count": 17,
   "id": "c7b86b1f",
   "metadata": {},
   "outputs": [
    {
     "data": {
      "text/plain": [
       "<seaborn.axisgrid.FacetGrid at 0x7f7fb17f5d90>"
      ]
     },
     "execution_count": 17,
     "metadata": {},
     "output_type": "execute_result"
    },
    {
     "data": {
      "image/png": "[encoded data removed]",
      "text/plain": [
       "<Figure size 360x360 with 1 Axes>"
      ]
     },
     "metadata": {
      "needs_background": "light"
     },
     "output_type": "display_data"
    }
   ],
   "source": [
    "# check BMI of patients with/without heart disease (confidence interval)\n",
    "sns.catplot(x='CVD',y='BMI',data=df, kind='bar')"
   ]
  },
  {
   "cell_type": "code",
   "execution_count": 18,
   "id": "5e1a5b4c",
   "metadata": {},
   "outputs": [
    {
     "data": {
      "text/plain": [
       "<seaborn.axisgrid.FacetGrid at 0x7f7fe0b44760>"
      ]
     },
     "execution_count": 18,
     "metadata": {},
     "output_type": "execute_result"
    },
    {
     "data": {
      "image/png": "[encoded data removed]",
      "text/plain": [
       "<Figure size 360x360 with 1 Axes>"
      ]
     },
     "metadata": {
      "needs_background": "light"
     },
     "output_type": "display_data"
    }
   ],
   "source": [
    "# check diabetes patients with/without heart disease\n",
    "sns.catplot(x='CVD',y='DIABETES',kind='bar',data=df)"
   ]
  },
  {
   "cell_type": "code",
   "execution_count": 19,
   "id": "dbf015dc",
   "metadata": {},
   "outputs": [
    {
     "data": {
      "text/plain": [
       "<seaborn.axisgrid.FacetGrid at 0x7f7fd34dc850>"
      ]
     },
     "execution_count": 19,
     "metadata": {},
     "output_type": "execute_result"
    },
    {
     "data": {
      "image/png": "[encoded data removed]",
      "text/plain": [
       "<Figure size 360x360 with 1 Axes>"
      ]
     },
     "metadata": {
      "needs_background": "light"
     },
     "output_type": "display_data"
    }
   ],
   "source": [
    "# check diabetes patients with/without heart disease\n",
    "sns.catplot(x='CVD',y='AGE',kind='bar',data=df)"
   ]
  },
  {
   "cell_type": "code",
   "execution_count": 20,
   "id": "96ca7493",
   "metadata": {},
   "outputs": [
    {
     "data": {
      "text/plain": [
       "Index(['SEX', 'TOTCHOL', 'AGE', 'SYSBP', 'DIABP', 'CURSMOKE', 'CIGPDAY', 'BMI',\n",
       "       'DIABETES', 'BPMEDS', 'HEARTRTE', 'GLUCOSE', 'PREVCHD', 'PREVAP',\n",
       "       'PREVMI', 'PREVSTRK', 'PREVHYP', 'CVD'],\n",
       "      dtype='object')"
      ]
     },
     "execution_count": 20,
     "metadata": {},
     "output_type": "execute_result"
    }
   ],
   "source": [
    "df.columns"
   ]
  },
  {
   "cell_type": "code",
   "execution_count": 21,
   "id": "c4d5165f",
   "metadata": {},
   "outputs": [
    {
     "data": {
      "text/html": [
       "<div>\n",
       "<style scoped>\n",
       "    .dataframe tbody tr th:only-of-type {\n",
       "        vertical-align: middle;\n",
       "    }\n",
       "\n",
       "    .dataframe tbody tr th {\n",
       "        vertical-align: top;\n",
       "    }\n",
       "\n",
       "    .dataframe thead th {\n",
       "        text-align: right;\n",
       "    }\n",
       "</style>\n",
       "<table border=\"1\" class=\"dataframe\">\n",
       "  <thead>\n",
       "    <tr style=\"text-align: right;\">\n",
       "      <th></th>\n",
       "      <th>SEX</th>\n",
       "      <th>TOTCHOL</th>\n",
       "      <th>AGE</th>\n",
       "      <th>SYSBP</th>\n",
       "      <th>DIABP</th>\n",
       "      <th>CURSMOKE</th>\n",
       "      <th>CIGPDAY</th>\n",
       "      <th>BMI</th>\n",
       "      <th>DIABETES</th>\n",
       "      <th>BPMEDS</th>\n",
       "      <th>HEARTRTE</th>\n",
       "      <th>GLUCOSE</th>\n",
       "      <th>PREVCHD</th>\n",
       "      <th>PREVAP</th>\n",
       "      <th>PREVMI</th>\n",
       "      <th>PREVSTRK</th>\n",
       "      <th>PREVHYP</th>\n",
       "      <th>CVD</th>\n",
       "    </tr>\n",
       "  </thead>\n",
       "  <tbody>\n",
       "    <tr>\n",
       "      <th>0</th>\n",
       "      <td>1</td>\n",
       "      <td>195.0</td>\n",
       "      <td>39</td>\n",
       "      <td>106.0</td>\n",
       "      <td>70.0</td>\n",
       "      <td>0</td>\n",
       "      <td>0.0</td>\n",
       "      <td>26.97</td>\n",
       "      <td>0</td>\n",
       "      <td>0.0</td>\n",
       "      <td>80.0</td>\n",
       "      <td>77.0</td>\n",
       "      <td>0</td>\n",
       "      <td>0</td>\n",
       "      <td>0</td>\n",
       "      <td>0</td>\n",
       "      <td>0</td>\n",
       "      <td>1</td>\n",
       "    </tr>\n",
       "    <tr>\n",
       "      <th>2</th>\n",
       "      <td>2</td>\n",
       "      <td>250.0</td>\n",
       "      <td>46</td>\n",
       "      <td>121.0</td>\n",
       "      <td>81.0</td>\n",
       "      <td>0</td>\n",
       "      <td>0.0</td>\n",
       "      <td>28.73</td>\n",
       "      <td>0</td>\n",
       "      <td>0.0</td>\n",
       "      <td>95.0</td>\n",
       "      <td>76.0</td>\n",
       "      <td>0</td>\n",
       "      <td>0</td>\n",
       "      <td>0</td>\n",
       "      <td>0</td>\n",
       "      <td>0</td>\n",
       "      <td>0</td>\n",
       "    </tr>\n",
       "    <tr>\n",
       "      <th>3</th>\n",
       "      <td>2</td>\n",
       "      <td>260.0</td>\n",
       "      <td>52</td>\n",
       "      <td>105.0</td>\n",
       "      <td>69.5</td>\n",
       "      <td>0</td>\n",
       "      <td>0.0</td>\n",
       "      <td>29.43</td>\n",
       "      <td>0</td>\n",
       "      <td>0.0</td>\n",
       "      <td>80.0</td>\n",
       "      <td>86.0</td>\n",
       "      <td>0</td>\n",
       "      <td>0</td>\n",
       "      <td>0</td>\n",
       "      <td>0</td>\n",
       "      <td>0</td>\n",
       "      <td>0</td>\n",
       "    </tr>\n",
       "    <tr>\n",
       "      <th>4</th>\n",
       "      <td>2</td>\n",
       "      <td>237.0</td>\n",
       "      <td>58</td>\n",
       "      <td>108.0</td>\n",
       "      <td>66.0</td>\n",
       "      <td>0</td>\n",
       "      <td>0.0</td>\n",
       "      <td>28.50</td>\n",
       "      <td>0</td>\n",
       "      <td>0.0</td>\n",
       "      <td>80.0</td>\n",
       "      <td>71.0</td>\n",
       "      <td>0</td>\n",
       "      <td>0</td>\n",
       "      <td>0</td>\n",
       "      <td>0</td>\n",
       "      <td>0</td>\n",
       "      <td>0</td>\n",
       "    </tr>\n",
       "    <tr>\n",
       "      <th>5</th>\n",
       "      <td>1</td>\n",
       "      <td>245.0</td>\n",
       "      <td>48</td>\n",
       "      <td>127.5</td>\n",
       "      <td>80.0</td>\n",
       "      <td>1</td>\n",
       "      <td>20.0</td>\n",
       "      <td>25.34</td>\n",
       "      <td>0</td>\n",
       "      <td>0.0</td>\n",
       "      <td>75.0</td>\n",
       "      <td>70.0</td>\n",
       "      <td>0</td>\n",
       "      <td>0</td>\n",
       "      <td>0</td>\n",
       "      <td>0</td>\n",
       "      <td>0</td>\n",
       "      <td>0</td>\n",
       "    </tr>\n",
       "  </tbody>\n",
       "</table>\n",
       "</div>"
      ],
      "text/plain": [
       "   SEX  TOTCHOL  AGE  SYSBP  DIABP  CURSMOKE  CIGPDAY    BMI  DIABETES  \\\n",
       "0    1    195.0   39  106.0   70.0         0      0.0  26.97         0   \n",
       "2    2    250.0   46  121.0   81.0         0      0.0  28.73         0   \n",
       "3    2    260.0   52  105.0   69.5         0      0.0  29.43         0   \n",
       "4    2    237.0   58  108.0   66.0         0      0.0  28.50         0   \n",
       "5    1    245.0   48  127.5   80.0         1     20.0  25.34         0   \n",
       "\n",
       "   BPMEDS  HEARTRTE  GLUCOSE  PREVCHD  PREVAP  PREVMI  PREVSTRK  PREVHYP  CVD  \n",
       "0     0.0      80.0     77.0        0       0       0         0        0    1  \n",
       "2     0.0      95.0     76.0        0       0       0         0        0    0  \n",
       "3     0.0      80.0     86.0        0       0       0         0        0    0  \n",
       "4     0.0      80.0     71.0        0       0       0         0        0    0  \n",
       "5     0.0      75.0     70.0        0       0       0         0        0    0  "
      ]
     },
     "execution_count": 21,
     "metadata": {},
     "output_type": "execute_result"
    }
   ],
   "source": [
    "df.head()"
   ]
  },
  {
   "cell_type": "markdown",
   "id": "5e6dee30",
   "metadata": {},
   "source": [
    "### Outlier treatment"
   ]
  },
  {
   "cell_type": "code",
   "execution_count": 22,
   "id": "6065b2e0",
   "metadata": {},
   "outputs": [
    {
     "data": {
      "image/png": "[encoded data removed]",
      "text/plain": [
       "<Figure size 1440x720 with 1 Axes>"
      ]
     },
     "metadata": {},
     "output_type": "display_data"
    }
   ],
   "source": [
    "# visualise the outliers of the numerical columns\n",
    "plt.figure(figsize=(20,10), facecolor='w')\n",
    "sns.boxplot(data=df[['TOTCHOL', 'AGE', 'SYSBP', 'DIABP', 'CIGPDAY', 'BMI', 'HEARTRTE', 'GLUCOSE']])\n",
    "plt.show()"
   ]
  },
  {
   "cell_type": "code",
   "execution_count": 23,
   "id": "b0d374f3",
   "metadata": {},
   "outputs": [
    {
     "data": {
      "text/html": [
       "<div>\n",
       "<style scoped>\n",
       "    .dataframe tbody tr th:only-of-type {\n",
       "        vertical-align: middle;\n",
       "    }\n",
       "\n",
       "    .dataframe tbody tr th {\n",
       "        vertical-align: top;\n",
       "    }\n",
       "\n",
       "    .dataframe thead th {\n",
       "        text-align: right;\n",
       "    }\n",
       "</style>\n",
       "<table border=\"1\" class=\"dataframe\">\n",
       "  <thead>\n",
       "    <tr style=\"text-align: right;\">\n",
       "      <th></th>\n",
       "      <th>TOTCHOL</th>\n",
       "      <th>AGE</th>\n",
       "      <th>SYSBP</th>\n",
       "      <th>DIABP</th>\n",
       "      <th>CIGPDAY</th>\n",
       "      <th>BMI</th>\n",
       "      <th>HEARTRTE</th>\n",
       "      <th>GLUCOSE</th>\n",
       "    </tr>\n",
       "  </thead>\n",
       "  <tbody>\n",
       "    <tr>\n",
       "      <th>count</th>\n",
       "      <td>9560.000000</td>\n",
       "      <td>9560.000000</td>\n",
       "      <td>9560.000000</td>\n",
       "      <td>9560.000000</td>\n",
       "      <td>9560.000000</td>\n",
       "      <td>9560.000000</td>\n",
       "      <td>9560.000000</td>\n",
       "      <td>9560.000000</td>\n",
       "    </tr>\n",
       "    <tr>\n",
       "      <th>mean</th>\n",
       "      <td>241.633473</td>\n",
       "      <td>54.299268</td>\n",
       "      <td>135.769979</td>\n",
       "      <td>82.930701</td>\n",
       "      <td>8.400314</td>\n",
       "      <td>25.835465</td>\n",
       "      <td>76.716004</td>\n",
       "      <td>83.756067</td>\n",
       "    </tr>\n",
       "    <tr>\n",
       "      <th>std</th>\n",
       "      <td>45.439304</td>\n",
       "      <td>9.474258</td>\n",
       "      <td>22.583883</td>\n",
       "      <td>11.715679</td>\n",
       "      <td>12.240943</td>\n",
       "      <td>4.038125</td>\n",
       "      <td>12.326825</td>\n",
       "      <td>25.032957</td>\n",
       "    </tr>\n",
       "    <tr>\n",
       "      <th>min</th>\n",
       "      <td>112.000000</td>\n",
       "      <td>32.000000</td>\n",
       "      <td>83.500000</td>\n",
       "      <td>30.000000</td>\n",
       "      <td>0.000000</td>\n",
       "      <td>14.430000</td>\n",
       "      <td>42.000000</td>\n",
       "      <td>39.000000</td>\n",
       "    </tr>\n",
       "    <tr>\n",
       "      <th>25%</th>\n",
       "      <td>210.000000</td>\n",
       "      <td>47.000000</td>\n",
       "      <td>120.000000</td>\n",
       "      <td>75.000000</td>\n",
       "      <td>0.000000</td>\n",
       "      <td>23.100000</td>\n",
       "      <td>69.000000</td>\n",
       "      <td>72.000000</td>\n",
       "    </tr>\n",
       "    <tr>\n",
       "      <th>50%</th>\n",
       "      <td>239.000000</td>\n",
       "      <td>54.000000</td>\n",
       "      <td>132.000000</td>\n",
       "      <td>82.000000</td>\n",
       "      <td>0.000000</td>\n",
       "      <td>25.450000</td>\n",
       "      <td>75.000000</td>\n",
       "      <td>79.000000</td>\n",
       "    </tr>\n",
       "    <tr>\n",
       "      <th>75%</th>\n",
       "      <td>269.000000</td>\n",
       "      <td>61.000000</td>\n",
       "      <td>149.000000</td>\n",
       "      <td>90.000000</td>\n",
       "      <td>20.000000</td>\n",
       "      <td>28.030000</td>\n",
       "      <td>85.000000</td>\n",
       "      <td>89.000000</td>\n",
       "    </tr>\n",
       "    <tr>\n",
       "      <th>max</th>\n",
       "      <td>696.000000</td>\n",
       "      <td>81.000000</td>\n",
       "      <td>295.000000</td>\n",
       "      <td>150.000000</td>\n",
       "      <td>90.000000</td>\n",
       "      <td>56.800000</td>\n",
       "      <td>150.000000</td>\n",
       "      <td>478.000000</td>\n",
       "    </tr>\n",
       "  </tbody>\n",
       "</table>\n",
       "</div>"
      ],
      "text/plain": [
       "           TOTCHOL          AGE        SYSBP        DIABP      CIGPDAY  \\\n",
       "count  9560.000000  9560.000000  9560.000000  9560.000000  9560.000000   \n",
       "mean    241.633473    54.299268   135.769979    82.930701     8.400314   \n",
       "std      45.439304     9.474258    22.583883    11.715679    12.240943   \n",
       "min     112.000000    32.000000    83.500000    30.000000     0.000000   \n",
       "25%     210.000000    47.000000   120.000000    75.000000     0.000000   \n",
       "50%     239.000000    54.000000   132.000000    82.000000     0.000000   \n",
       "75%     269.000000    61.000000   149.000000    90.000000    20.000000   \n",
       "max     696.000000    81.000000   295.000000   150.000000    90.000000   \n",
       "\n",
       "               BMI     HEARTRTE      GLUCOSE  \n",
       "count  9560.000000  9560.000000  9560.000000  \n",
       "mean     25.835465    76.716004    83.756067  \n",
       "std       4.038125    12.326825    25.032957  \n",
       "min      14.430000    42.000000    39.000000  \n",
       "25%      23.100000    69.000000    72.000000  \n",
       "50%      25.450000    75.000000    79.000000  \n",
       "75%      28.030000    85.000000    89.000000  \n",
       "max      56.800000   150.000000   478.000000  "
      ]
     },
     "execution_count": 23,
     "metadata": {},
     "output_type": "execute_result"
    }
   ],
   "source": [
    "dfIQR=df[['TOTCHOL', 'AGE', 'SYSBP', 'DIABP', 'CIGPDAY', 'BMI', 'HEARTRTE', 'GLUCOSE']]\n",
    "dfIQR.describe()"
   ]
  },
  {
   "cell_type": "code",
   "execution_count": 24,
   "id": "60ae3ec7",
   "metadata": {},
   "outputs": [
    {
     "data": {
      "text/html": [
       "<div>\n",
       "<style scoped>\n",
       "    .dataframe tbody tr th:only-of-type {\n",
       "        vertical-align: middle;\n",
       "    }\n",
       "\n",
       "    .dataframe tbody tr th {\n",
       "        vertical-align: top;\n",
       "    }\n",
       "\n",
       "    .dataframe thead th {\n",
       "        text-align: right;\n",
       "    }\n",
       "</style>\n",
       "<table border=\"1\" class=\"dataframe\">\n",
       "  <thead>\n",
       "    <tr style=\"text-align: right;\">\n",
       "      <th></th>\n",
       "      <th>SEX</th>\n",
       "      <th>TOTCHOL</th>\n",
       "      <th>AGE</th>\n",
       "      <th>SYSBP</th>\n",
       "      <th>DIABP</th>\n",
       "      <th>CURSMOKE</th>\n",
       "      <th>CIGPDAY</th>\n",
       "      <th>BMI</th>\n",
       "      <th>DIABETES</th>\n",
       "      <th>BPMEDS</th>\n",
       "      <th>HEARTRTE</th>\n",
       "      <th>GLUCOSE</th>\n",
       "      <th>PREVCHD</th>\n",
       "      <th>PREVAP</th>\n",
       "      <th>PREVMI</th>\n",
       "      <th>PREVSTRK</th>\n",
       "      <th>PREVHYP</th>\n",
       "      <th>CVD</th>\n",
       "    </tr>\n",
       "  </thead>\n",
       "  <tbody>\n",
       "    <tr>\n",
       "      <th>count</th>\n",
       "      <td>9560.000000</td>\n",
       "      <td>9560.000000</td>\n",
       "      <td>9560.000000</td>\n",
       "      <td>9560.000000</td>\n",
       "      <td>9560.000000</td>\n",
       "      <td>9560.000000</td>\n",
       "      <td>9560.000000</td>\n",
       "      <td>9560.000000</td>\n",
       "      <td>9560.000000</td>\n",
       "      <td>9560.000000</td>\n",
       "      <td>9560.000000</td>\n",
       "      <td>9560.000000</td>\n",
       "      <td>9560.000000</td>\n",
       "      <td>9560.000000</td>\n",
       "      <td>9560.000000</td>\n",
       "      <td>9560.000000</td>\n",
       "      <td>9560.000000</td>\n",
       "      <td>9560.000000</td>\n",
       "    </tr>\n",
       "    <tr>\n",
       "      <th>mean</th>\n",
       "      <td>1.555126</td>\n",
       "      <td>241.633473</td>\n",
       "      <td>54.299268</td>\n",
       "      <td>135.769979</td>\n",
       "      <td>82.930701</td>\n",
       "      <td>0.435774</td>\n",
       "      <td>8.400314</td>\n",
       "      <td>25.835465</td>\n",
       "      <td>0.042155</td>\n",
       "      <td>0.082845</td>\n",
       "      <td>76.716004</td>\n",
       "      <td>83.756067</td>\n",
       "      <td>0.068410</td>\n",
       "      <td>0.051151</td>\n",
       "      <td>0.031381</td>\n",
       "      <td>0.012134</td>\n",
       "      <td>0.447594</td>\n",
       "      <td>0.252510</td>\n",
       "    </tr>\n",
       "    <tr>\n",
       "      <th>std</th>\n",
       "      <td>0.496978</td>\n",
       "      <td>45.439304</td>\n",
       "      <td>9.474258</td>\n",
       "      <td>22.583883</td>\n",
       "      <td>11.715679</td>\n",
       "      <td>0.495884</td>\n",
       "      <td>12.240943</td>\n",
       "      <td>4.038125</td>\n",
       "      <td>0.200953</td>\n",
       "      <td>0.275662</td>\n",
       "      <td>12.326825</td>\n",
       "      <td>25.032957</td>\n",
       "      <td>0.252461</td>\n",
       "      <td>0.220316</td>\n",
       "      <td>0.174354</td>\n",
       "      <td>0.109489</td>\n",
       "      <td>0.497272</td>\n",
       "      <td>0.434475</td>\n",
       "    </tr>\n",
       "    <tr>\n",
       "      <th>min</th>\n",
       "      <td>1.000000</td>\n",
       "      <td>112.000000</td>\n",
       "      <td>32.000000</td>\n",
       "      <td>83.500000</td>\n",
       "      <td>30.000000</td>\n",
       "      <td>0.000000</td>\n",
       "      <td>0.000000</td>\n",
       "      <td>14.430000</td>\n",
       "      <td>0.000000</td>\n",
       "      <td>0.000000</td>\n",
       "      <td>42.000000</td>\n",
       "      <td>39.000000</td>\n",
       "      <td>0.000000</td>\n",
       "      <td>0.000000</td>\n",
       "      <td>0.000000</td>\n",
       "      <td>0.000000</td>\n",
       "      <td>0.000000</td>\n",
       "      <td>0.000000</td>\n",
       "    </tr>\n",
       "    <tr>\n",
       "      <th>25%</th>\n",
       "      <td>1.000000</td>\n",
       "      <td>210.000000</td>\n",
       "      <td>47.000000</td>\n",
       "      <td>120.000000</td>\n",
       "      <td>75.000000</td>\n",
       "      <td>0.000000</td>\n",
       "      <td>0.000000</td>\n",
       "      <td>23.100000</td>\n",
       "      <td>0.000000</td>\n",
       "      <td>0.000000</td>\n",
       "      <td>69.000000</td>\n",
       "      <td>72.000000</td>\n",
       "      <td>0.000000</td>\n",
       "      <td>0.000000</td>\n",
       "      <td>0.000000</td>\n",
       "      <td>0.000000</td>\n",
       "      <td>0.000000</td>\n",
       "      <td>0.000000</td>\n",
       "    </tr>\n",
       "    <tr>\n",
       "      <th>50%</th>\n",
       "      <td>2.000000</td>\n",
       "      <td>239.000000</td>\n",
       "      <td>54.000000</td>\n",
       "      <td>132.000000</td>\n",
       "      <td>82.000000</td>\n",
       "      <td>0.000000</td>\n",
       "      <td>0.000000</td>\n",
       "      <td>25.450000</td>\n",
       "      <td>0.000000</td>\n",
       "      <td>0.000000</td>\n",
       "      <td>75.000000</td>\n",
       "      <td>79.000000</td>\n",
       "      <td>0.000000</td>\n",
       "      <td>0.000000</td>\n",
       "      <td>0.000000</td>\n",
       "      <td>0.000000</td>\n",
       "      <td>0.000000</td>\n",
       "      <td>0.000000</td>\n",
       "    </tr>\n",
       "    <tr>\n",
       "      <th>75%</th>\n",
       "      <td>2.000000</td>\n",
       "      <td>269.000000</td>\n",
       "      <td>61.000000</td>\n",
       "      <td>149.000000</td>\n",
       "      <td>90.000000</td>\n",
       "      <td>1.000000</td>\n",
       "      <td>20.000000</td>\n",
       "      <td>28.030000</td>\n",
       "      <td>0.000000</td>\n",
       "      <td>0.000000</td>\n",
       "      <td>85.000000</td>\n",
       "      <td>89.000000</td>\n",
       "      <td>0.000000</td>\n",
       "      <td>0.000000</td>\n",
       "      <td>0.000000</td>\n",
       "      <td>0.000000</td>\n",
       "      <td>1.000000</td>\n",
       "      <td>1.000000</td>\n",
       "    </tr>\n",
       "    <tr>\n",
       "      <th>max</th>\n",
       "      <td>2.000000</td>\n",
       "      <td>696.000000</td>\n",
       "      <td>81.000000</td>\n",
       "      <td>295.000000</td>\n",
       "      <td>150.000000</td>\n",
       "      <td>1.000000</td>\n",
       "      <td>90.000000</td>\n",
       "      <td>56.800000</td>\n",
       "      <td>1.000000</td>\n",
       "      <td>1.000000</td>\n",
       "      <td>150.000000</td>\n",
       "      <td>478.000000</td>\n",
       "      <td>1.000000</td>\n",
       "      <td>1.000000</td>\n",
       "      <td>1.000000</td>\n",
       "      <td>1.000000</td>\n",
       "      <td>1.000000</td>\n",
       "      <td>1.000000</td>\n",
       "    </tr>\n",
       "  </tbody>\n",
       "</table>\n",
       "</div>"
      ],
      "text/plain": [
       "               SEX      TOTCHOL          AGE        SYSBP        DIABP  \\\n",
       "count  9560.000000  9560.000000  9560.000000  9560.000000  9560.000000   \n",
       "mean      1.555126   241.633473    54.299268   135.769979    82.930701   \n",
       "std       0.496978    45.439304     9.474258    22.583883    11.715679   \n",
       "min       1.000000   112.000000    32.000000    83.500000    30.000000   \n",
       "25%       1.000000   210.000000    47.000000   120.000000    75.000000   \n",
       "50%       2.000000   239.000000    54.000000   132.000000    82.000000   \n",
       "75%       2.000000   269.000000    61.000000   149.000000    90.000000   \n",
       "max       2.000000   696.000000    81.000000   295.000000   150.000000   \n",
       "\n",
       "          CURSMOKE      CIGPDAY          BMI     DIABETES       BPMEDS  \\\n",
       "count  9560.000000  9560.000000  9560.000000  9560.000000  9560.000000   \n",
       "mean      0.435774     8.400314    25.835465     0.042155     0.082845   \n",
       "std       0.495884    12.240943     4.038125     0.200953     0.275662   \n",
       "min       0.000000     0.000000    14.430000     0.000000     0.000000   \n",
       "25%       0.000000     0.000000    23.100000     0.000000     0.000000   \n",
       "50%       0.000000     0.000000    25.450000     0.000000     0.000000   \n",
       "75%       1.000000    20.000000    28.030000     0.000000     0.000000   \n",
       "max       1.000000    90.000000    56.800000     1.000000     1.000000   \n",
       "\n",
       "          HEARTRTE      GLUCOSE      PREVCHD       PREVAP       PREVMI  \\\n",
       "count  9560.000000  9560.000000  9560.000000  9560.000000  9560.000000   \n",
       "mean     76.716004    83.756067     0.068410     0.051151     0.031381   \n",
       "std      12.326825    25.032957     0.252461     0.220316     0.174354   \n",
       "min      42.000000    39.000000     0.000000     0.000000     0.000000   \n",
       "25%      69.000000    72.000000     0.000000     0.000000     0.000000   \n",
       "50%      75.000000    79.000000     0.000000     0.000000     0.000000   \n",
       "75%      85.000000    89.000000     0.000000     0.000000     0.000000   \n",
       "max     150.000000   478.000000     1.000000     1.000000     1.000000   \n",
       "\n",
       "          PREVSTRK      PREVHYP          CVD  \n",
       "count  9560.000000  9560.000000  9560.000000  \n",
       "mean      0.012134     0.447594     0.252510  \n",
       "std       0.109489     0.497272     0.434475  \n",
       "min       0.000000     0.000000     0.000000  \n",
       "25%       0.000000     0.000000     0.000000  \n",
       "50%       0.000000     0.000000     0.000000  \n",
       "75%       0.000000     1.000000     1.000000  \n",
       "max       1.000000     1.000000     1.000000  "
      ]
     },
     "execution_count": 24,
     "metadata": {},
     "output_type": "execute_result"
    }
   ],
   "source": [
    "df.describe()"
   ]
  },
  {
   "cell_type": "code",
   "execution_count": 25,
   "id": "d6c94b01",
   "metadata": {},
   "outputs": [],
   "source": [
    "Q1 = dfIQR.quantile(0.25)\n",
    "Q3 = dfIQR.quantile(0.75)\n",
    "IQR = Q3-Q1"
   ]
  },
  {
   "cell_type": "code",
   "execution_count": 26,
   "id": "1b8430d8",
   "metadata": {},
   "outputs": [
    {
     "name": "stderr",
     "output_type": "stream",
     "text": [
      "<ipython-input-26-710251c414c6>:1: FutureWarning: Automatic reindexing on DataFrame vs Series comparisons is deprecated and will raise ValueError in a future version.  Do `left, right = left.align(right, axis=1, copy=False)` before e.g. `left == right`\n",
      "  df = df[~((df < (Q1-1.5 * IQR)) |(df > (Q3 + 1.5 * IQR))).any(axis=1)]\n",
      "<ipython-input-26-710251c414c6>:1: FutureWarning: Automatic reindexing on DataFrame vs Series comparisons is deprecated and will raise ValueError in a future version.  Do `left, right = left.align(right, axis=1, copy=False)` before e.g. `left == right`\n",
      "  df = df[~((df < (Q1-1.5 * IQR)) |(df > (Q3 + 1.5 * IQR))).any(axis=1)]\n"
     ]
    },
    {
     "data": {
      "text/plain": [
       "(8360, 18)"
      ]
     },
     "execution_count": 26,
     "metadata": {},
     "output_type": "execute_result"
    }
   ],
   "source": [
    "df = df[~((df < (Q1-1.5 * IQR)) |(df > (Q3 + 1.5 * IQR))).any(axis=1)]\n",
    "df.shape"
   ]
  },
  {
   "cell_type": "code",
   "execution_count": 27,
   "id": "2d557666",
   "metadata": {},
   "outputs": [
    {
     "data": {
      "image/png": "[encoded data removed]",
      "text/plain": [
       "<Figure size 1440x720 with 1 Axes>"
      ]
     },
     "metadata": {},
     "output_type": "display_data"
    }
   ],
   "source": [
    "# visualise the outliers of the numerical columns again\n",
    "plt.figure(figsize=(20,10), facecolor='w')\n",
    "sns.boxplot(data=df[['TOTCHOL', 'AGE', 'SYSBP', 'DIABP', 'CIGPDAY', 'BMI', 'HEARTRTE', 'GLUCOSE']])\n",
    "plt.show()"
   ]
  },
  {
   "cell_type": "code",
   "execution_count": 28,
   "id": "dbd5b0b6",
   "metadata": {},
   "outputs": [
    {
     "data": {
      "text/html": [
       "<div>\n",
       "<style scoped>\n",
       "    .dataframe tbody tr th:only-of-type {\n",
       "        vertical-align: middle;\n",
       "    }\n",
       "\n",
       "    .dataframe tbody tr th {\n",
       "        vertical-align: top;\n",
       "    }\n",
       "\n",
       "    .dataframe thead th {\n",
       "        text-align: right;\n",
       "    }\n",
       "</style>\n",
       "<table border=\"1\" class=\"dataframe\">\n",
       "  <thead>\n",
       "    <tr style=\"text-align: right;\">\n",
       "      <th></th>\n",
       "      <th>SEX</th>\n",
       "      <th>TOTCHOL</th>\n",
       "      <th>AGE</th>\n",
       "      <th>SYSBP</th>\n",
       "      <th>DIABP</th>\n",
       "      <th>CURSMOKE</th>\n",
       "      <th>CIGPDAY</th>\n",
       "      <th>BMI</th>\n",
       "      <th>DIABETES</th>\n",
       "      <th>BPMEDS</th>\n",
       "      <th>HEARTRTE</th>\n",
       "      <th>GLUCOSE</th>\n",
       "      <th>PREVCHD</th>\n",
       "      <th>PREVAP</th>\n",
       "      <th>PREVMI</th>\n",
       "      <th>PREVSTRK</th>\n",
       "      <th>PREVHYP</th>\n",
       "      <th>CVD</th>\n",
       "    </tr>\n",
       "  </thead>\n",
       "  <tbody>\n",
       "    <tr>\n",
       "      <th>count</th>\n",
       "      <td>8360.000000</td>\n",
       "      <td>8360.000000</td>\n",
       "      <td>8360.000000</td>\n",
       "      <td>8360.000000</td>\n",
       "      <td>8360.000000</td>\n",
       "      <td>8360.000000</td>\n",
       "      <td>8360.000000</td>\n",
       "      <td>8360.000000</td>\n",
       "      <td>8360.000000</td>\n",
       "      <td>8360.000000</td>\n",
       "      <td>8360.000000</td>\n",
       "      <td>8360.000000</td>\n",
       "      <td>8360.000000</td>\n",
       "      <td>8360.000000</td>\n",
       "      <td>8360.000000</td>\n",
       "      <td>8360.000000</td>\n",
       "      <td>8360.000000</td>\n",
       "      <td>8360.000000</td>\n",
       "    </tr>\n",
       "    <tr>\n",
       "      <th>mean</th>\n",
       "      <td>1.547847</td>\n",
       "      <td>239.382177</td>\n",
       "      <td>53.877871</td>\n",
       "      <td>132.964414</td>\n",
       "      <td>81.910825</td>\n",
       "      <td>0.443301</td>\n",
       "      <td>8.441507</td>\n",
       "      <td>25.491451</td>\n",
       "      <td>0.018541</td>\n",
       "      <td>0.069378</td>\n",
       "      <td>75.623565</td>\n",
       "      <td>79.596531</td>\n",
       "      <td>0.063038</td>\n",
       "      <td>0.047608</td>\n",
       "      <td>0.029187</td>\n",
       "      <td>0.010287</td>\n",
       "      <td>0.409569</td>\n",
       "      <td>0.229545</td>\n",
       "    </tr>\n",
       "    <tr>\n",
       "      <th>std</th>\n",
       "      <td>0.497735</td>\n",
       "      <td>41.399451</td>\n",
       "      <td>9.448219</td>\n",
       "      <td>19.514890</td>\n",
       "      <td>10.493353</td>\n",
       "      <td>0.496805</td>\n",
       "      <td>11.900671</td>\n",
       "      <td>3.461083</td>\n",
       "      <td>0.134904</td>\n",
       "      <td>0.254111</td>\n",
       "      <td>11.202880</td>\n",
       "      <td>11.922930</td>\n",
       "      <td>0.243046</td>\n",
       "      <td>0.212947</td>\n",
       "      <td>0.168339</td>\n",
       "      <td>0.100908</td>\n",
       "      <td>0.491784</td>\n",
       "      <td>0.420566</td>\n",
       "    </tr>\n",
       "    <tr>\n",
       "      <th>min</th>\n",
       "      <td>1.000000</td>\n",
       "      <td>124.000000</td>\n",
       "      <td>32.000000</td>\n",
       "      <td>83.500000</td>\n",
       "      <td>53.000000</td>\n",
       "      <td>0.000000</td>\n",
       "      <td>0.000000</td>\n",
       "      <td>15.920000</td>\n",
       "      <td>0.000000</td>\n",
       "      <td>0.000000</td>\n",
       "      <td>45.000000</td>\n",
       "      <td>47.000000</td>\n",
       "      <td>0.000000</td>\n",
       "      <td>0.000000</td>\n",
       "      <td>0.000000</td>\n",
       "      <td>0.000000</td>\n",
       "      <td>0.000000</td>\n",
       "      <td>0.000000</td>\n",
       "    </tr>\n",
       "    <tr>\n",
       "      <th>25%</th>\n",
       "      <td>1.000000</td>\n",
       "      <td>210.000000</td>\n",
       "      <td>47.000000</td>\n",
       "      <td>119.000000</td>\n",
       "      <td>74.500000</td>\n",
       "      <td>0.000000</td>\n",
       "      <td>0.000000</td>\n",
       "      <td>23.060000</td>\n",
       "      <td>0.000000</td>\n",
       "      <td>0.000000</td>\n",
       "      <td>68.000000</td>\n",
       "      <td>71.000000</td>\n",
       "      <td>0.000000</td>\n",
       "      <td>0.000000</td>\n",
       "      <td>0.000000</td>\n",
       "      <td>0.000000</td>\n",
       "      <td>0.000000</td>\n",
       "      <td>0.000000</td>\n",
       "    </tr>\n",
       "    <tr>\n",
       "      <th>50%</th>\n",
       "      <td>2.000000</td>\n",
       "      <td>238.000000</td>\n",
       "      <td>53.000000</td>\n",
       "      <td>130.000000</td>\n",
       "      <td>81.000000</td>\n",
       "      <td>0.000000</td>\n",
       "      <td>0.000000</td>\n",
       "      <td>25.300000</td>\n",
       "      <td>0.000000</td>\n",
       "      <td>0.000000</td>\n",
       "      <td>75.000000</td>\n",
       "      <td>78.000000</td>\n",
       "      <td>0.000000</td>\n",
       "      <td>0.000000</td>\n",
       "      <td>0.000000</td>\n",
       "      <td>0.000000</td>\n",
       "      <td>0.000000</td>\n",
       "      <td>0.000000</td>\n",
       "    </tr>\n",
       "    <tr>\n",
       "      <th>75%</th>\n",
       "      <td>2.000000</td>\n",
       "      <td>266.250000</td>\n",
       "      <td>61.000000</td>\n",
       "      <td>145.000000</td>\n",
       "      <td>89.000000</td>\n",
       "      <td>1.000000</td>\n",
       "      <td>20.000000</td>\n",
       "      <td>27.750000</td>\n",
       "      <td>0.000000</td>\n",
       "      <td>0.000000</td>\n",
       "      <td>82.000000</td>\n",
       "      <td>87.000000</td>\n",
       "      <td>0.000000</td>\n",
       "      <td>0.000000</td>\n",
       "      <td>0.000000</td>\n",
       "      <td>0.000000</td>\n",
       "      <td>1.000000</td>\n",
       "      <td>0.000000</td>\n",
       "    </tr>\n",
       "    <tr>\n",
       "      <th>max</th>\n",
       "      <td>2.000000</td>\n",
       "      <td>356.000000</td>\n",
       "      <td>81.000000</td>\n",
       "      <td>192.500000</td>\n",
       "      <td>112.500000</td>\n",
       "      <td>1.000000</td>\n",
       "      <td>50.000000</td>\n",
       "      <td>35.420000</td>\n",
       "      <td>1.000000</td>\n",
       "      <td>1.000000</td>\n",
       "      <td>109.000000</td>\n",
       "      <td>114.000000</td>\n",
       "      <td>1.000000</td>\n",
       "      <td>1.000000</td>\n",
       "      <td>1.000000</td>\n",
       "      <td>1.000000</td>\n",
       "      <td>1.000000</td>\n",
       "      <td>1.000000</td>\n",
       "    </tr>\n",
       "  </tbody>\n",
       "</table>\n",
       "</div>"
      ],
      "text/plain": [
       "               SEX      TOTCHOL          AGE        SYSBP        DIABP  \\\n",
       "count  8360.000000  8360.000000  8360.000000  8360.000000  8360.000000   \n",
       "mean      1.547847   239.382177    53.877871   132.964414    81.910825   \n",
       "std       0.497735    41.399451     9.448219    19.514890    10.493353   \n",
       "min       1.000000   124.000000    32.000000    83.500000    53.000000   \n",
       "25%       1.000000   210.000000    47.000000   119.000000    74.500000   \n",
       "50%       2.000000   238.000000    53.000000   130.000000    81.000000   \n",
       "75%       2.000000   266.250000    61.000000   145.000000    89.000000   \n",
       "max       2.000000   356.000000    81.000000   192.500000   112.500000   \n",
       "\n",
       "          CURSMOKE      CIGPDAY          BMI     DIABETES       BPMEDS  \\\n",
       "count  8360.000000  8360.000000  8360.000000  8360.000000  8360.000000   \n",
       "mean      0.443301     8.441507    25.491451     0.018541     0.069378   \n",
       "std       0.496805    11.900671     3.461083     0.134904     0.254111   \n",
       "min       0.000000     0.000000    15.920000     0.000000     0.000000   \n",
       "25%       0.000000     0.000000    23.060000     0.000000     0.000000   \n",
       "50%       0.000000     0.000000    25.300000     0.000000     0.000000   \n",
       "75%       1.000000    20.000000    27.750000     0.000000     0.000000   \n",
       "max       1.000000    50.000000    35.420000     1.000000     1.000000   \n",
       "\n",
       "          HEARTRTE      GLUCOSE      PREVCHD       PREVAP       PREVMI  \\\n",
       "count  8360.000000  8360.000000  8360.000000  8360.000000  8360.000000   \n",
       "mean     75.623565    79.596531     0.063038     0.047608     0.029187   \n",
       "std      11.202880    11.922930     0.243046     0.212947     0.168339   \n",
       "min      45.000000    47.000000     0.000000     0.000000     0.000000   \n",
       "25%      68.000000    71.000000     0.000000     0.000000     0.000000   \n",
       "50%      75.000000    78.000000     0.000000     0.000000     0.000000   \n",
       "75%      82.000000    87.000000     0.000000     0.000000     0.000000   \n",
       "max     109.000000   114.000000     1.000000     1.000000     1.000000   \n",
       "\n",
       "          PREVSTRK      PREVHYP          CVD  \n",
       "count  8360.000000  8360.000000  8360.000000  \n",
       "mean      0.010287     0.409569     0.229545  \n",
       "std       0.100908     0.491784     0.420566  \n",
       "min       0.000000     0.000000     0.000000  \n",
       "25%       0.000000     0.000000     0.000000  \n",
       "50%       0.000000     0.000000     0.000000  \n",
       "75%       0.000000     1.000000     0.000000  \n",
       "max       1.000000     1.000000     1.000000  "
      ]
     },
     "execution_count": 28,
     "metadata": {},
     "output_type": "execute_result"
    }
   ],
   "source": [
    "df.describe()"
   ]
  },
  {
   "cell_type": "markdown",
   "id": "c9157cdd",
   "metadata": {},
   "source": [
    "## Correlation of all the variables with respect to each other"
   ]
  },
  {
   "cell_type": "code",
   "execution_count": 29,
   "id": "c193b743",
   "metadata": {},
   "outputs": [
    {
     "data": {
      "text/plain": [
       "<AxesSubplot:>"
      ]
     },
     "execution_count": 29,
     "metadata": {},
     "output_type": "execute_result"
    },
    {
     "data": {
      "image/png": "[encoded data removed]",
      "text/plain": [
       "<Figure size 1440x864 with 2 Axes>"
      ]
     },
     "metadata": {},
     "output_type": "display_data"
    }
   ],
   "source": [
    "sns.set(rc={'figure.figsize':(20,12)})\n",
    "sns.heatmap(df.corr().abs(),annot=True)"
   ]
  },
  {
   "cell_type": "markdown",
   "id": "e7dbc908",
   "metadata": {},
   "source": [
    "### Feature Selection"
   ]
  },
  {
   "cell_type": "code",
   "execution_count": 30,
   "id": "0e3efb8a",
   "metadata": {},
   "outputs": [
    {
     "name": "stdout",
     "output_type": "stream",
     "text": [
      "       Specs        Score\n",
      "3      SYSBP  1106.735102\n",
      "14    PREVMI   734.158949\n",
      "12   PREVCHD   660.055570\n",
      "2        AGE   617.476701\n",
      "13    PREVAP   362.067542\n",
      "1    TOTCHOL   310.177298\n",
      "15  PREVSTRK   288.653465\n",
      "4      DIABP   223.588197\n",
      "16   PREVHYP   188.702376\n",
      "6    CIGPDAY   164.474080\n",
      "9     BPMEDS    95.286077\n"
     ]
    }
   ],
   "source": [
    "# Identify the features with the most importance for the outcome variable Heart Disease\n",
    "\n",
    "# separate independent & dependent variables\n",
    "X = df.iloc[:,0:17]  # independent columns\n",
    "y = df.iloc[:,-1]    # target column i.e price range\n",
    "\n",
    "# apply SelectKBest class to extract top 10 best features\n",
    "bestfeatures = SelectKBest(score_func=chi2, k=10)\n",
    "fit = bestfeatures.fit(X,y)\n",
    "dfscores = pd.DataFrame(fit.scores_)\n",
    "dfcolumns = pd.DataFrame(X.columns)\n",
    "\n",
    "# concat two dataframes for better visualization \n",
    "featureScores = pd.concat([dfcolumns,dfscores],axis=1)\n",
    "featureScores.columns = ['Specs','Score']  # naming the dataframe columns\n",
    "print(featureScores.nlargest(11,'Score'))  # print 10 best features"
   ]
  },
  {
   "cell_type": "code",
   "execution_count": 31,
   "id": "da3bd605",
   "metadata": {},
   "outputs": [
    {
     "data": {
      "text/html": [
       "<div>\n",
       "<style scoped>\n",
       "    .dataframe tbody tr th:only-of-type {\n",
       "        vertical-align: middle;\n",
       "    }\n",
       "\n",
       "    .dataframe tbody tr th {\n",
       "        vertical-align: top;\n",
       "    }\n",
       "\n",
       "    .dataframe thead th {\n",
       "        text-align: right;\n",
       "    }\n",
       "</style>\n",
       "<table border=\"1\" class=\"dataframe\">\n",
       "  <thead>\n",
       "    <tr style=\"text-align: right;\">\n",
       "      <th></th>\n",
       "      <th>Specs</th>\n",
       "      <th>Score</th>\n",
       "    </tr>\n",
       "  </thead>\n",
       "  <tbody>\n",
       "    <tr>\n",
       "      <th>3</th>\n",
       "      <td>SYSBP</td>\n",
       "      <td>1106.735102</td>\n",
       "    </tr>\n",
       "    <tr>\n",
       "      <th>14</th>\n",
       "      <td>PREVMI</td>\n",
       "      <td>734.158949</td>\n",
       "    </tr>\n",
       "    <tr>\n",
       "      <th>12</th>\n",
       "      <td>PREVCHD</td>\n",
       "      <td>660.055570</td>\n",
       "    </tr>\n",
       "    <tr>\n",
       "      <th>2</th>\n",
       "      <td>AGE</td>\n",
       "      <td>617.476701</td>\n",
       "    </tr>\n",
       "    <tr>\n",
       "      <th>13</th>\n",
       "      <td>PREVAP</td>\n",
       "      <td>362.067542</td>\n",
       "    </tr>\n",
       "    <tr>\n",
       "      <th>1</th>\n",
       "      <td>TOTCHOL</td>\n",
       "      <td>310.177298</td>\n",
       "    </tr>\n",
       "    <tr>\n",
       "      <th>15</th>\n",
       "      <td>PREVSTRK</td>\n",
       "      <td>288.653465</td>\n",
       "    </tr>\n",
       "    <tr>\n",
       "      <th>4</th>\n",
       "      <td>DIABP</td>\n",
       "      <td>223.588197</td>\n",
       "    </tr>\n",
       "    <tr>\n",
       "      <th>16</th>\n",
       "      <td>PREVHYP</td>\n",
       "      <td>188.702376</td>\n",
       "    </tr>\n",
       "    <tr>\n",
       "      <th>6</th>\n",
       "      <td>CIGPDAY</td>\n",
       "      <td>164.474080</td>\n",
       "    </tr>\n",
       "    <tr>\n",
       "      <th>9</th>\n",
       "      <td>BPMEDS</td>\n",
       "      <td>95.286077</td>\n",
       "    </tr>\n",
       "    <tr>\n",
       "      <th>8</th>\n",
       "      <td>DIABETES</td>\n",
       "      <td>78.608835</td>\n",
       "    </tr>\n",
       "    <tr>\n",
       "      <th>0</th>\n",
       "      <td>SEX</td>\n",
       "      <td>50.015047</td>\n",
       "    </tr>\n",
       "    <tr>\n",
       "      <th>7</th>\n",
       "      <td>BMI</td>\n",
       "      <td>33.860312</td>\n",
       "    </tr>\n",
       "    <tr>\n",
       "      <th>11</th>\n",
       "      <td>GLUCOSE</td>\n",
       "      <td>22.417814</td>\n",
       "    </tr>\n",
       "    <tr>\n",
       "      <th>10</th>\n",
       "      <td>HEARTRTE</td>\n",
       "      <td>6.872964</td>\n",
       "    </tr>\n",
       "    <tr>\n",
       "      <th>5</th>\n",
       "      <td>CURSMOKE</td>\n",
       "      <td>3.271343</td>\n",
       "    </tr>\n",
       "  </tbody>\n",
       "</table>\n",
       "</div>"
      ],
      "text/plain": [
       "       Specs        Score\n",
       "3      SYSBP  1106.735102\n",
       "14    PREVMI   734.158949\n",
       "12   PREVCHD   660.055570\n",
       "2        AGE   617.476701\n",
       "13    PREVAP   362.067542\n",
       "1    TOTCHOL   310.177298\n",
       "15  PREVSTRK   288.653465\n",
       "4      DIABP   223.588197\n",
       "16   PREVHYP   188.702376\n",
       "6    CIGPDAY   164.474080\n",
       "9     BPMEDS    95.286077\n",
       "8   DIABETES    78.608835\n",
       "0        SEX    50.015047\n",
       "7        BMI    33.860312\n",
       "11   GLUCOSE    22.417814\n",
       "10  HEARTRTE     6.872964\n",
       "5   CURSMOKE     3.271343"
      ]
     },
     "execution_count": 31,
     "metadata": {},
     "output_type": "execute_result"
    }
   ],
   "source": [
    "featureScores = featureScores.sort_values(by='Score', ascending=False)\n",
    "featureScores"
   ]
  },
  {
   "cell_type": "code",
   "execution_count": 32,
   "id": "50fe106e",
   "metadata": {},
   "outputs": [],
   "source": [
    "# drop the features we will not use\n",
    "#drop irrelevant columns\n",
    "drop_columns=['CURSMOKE', 'BMI', 'HEARTRTE', 'GLUCOSE']\n",
    "df=df.drop(drop_columns, axis=1) # axis=1 because we are dropping columns, not rows"
   ]
  },
  {
   "cell_type": "code",
   "execution_count": 33,
   "id": "23372cd5",
   "metadata": {},
   "outputs": [
    {
     "data": {
      "text/plain": [
       "(8360, 14)"
      ]
     },
     "execution_count": 33,
     "metadata": {},
     "output_type": "execute_result"
    }
   ],
   "source": [
    "df.shape"
   ]
  },
  {
   "cell_type": "code",
   "execution_count": 34,
   "id": "11303b66",
   "metadata": {},
   "outputs": [
    {
     "data": {
      "text/plain": [
       "Index(['SEX', 'TOTCHOL', 'AGE', 'SYSBP', 'DIABP', 'CIGPDAY', 'DIABETES',\n",
       "       'BPMEDS', 'PREVCHD', 'PREVAP', 'PREVMI', 'PREVSTRK', 'PREVHYP', 'CVD'],\n",
       "      dtype='object')"
      ]
     },
     "execution_count": 34,
     "metadata": {},
     "output_type": "execute_result"
    }
   ],
   "source": [
    "df.columns"
   ]
  },
  {
   "cell_type": "markdown",
   "id": "406ff9ea",
   "metadata": {},
   "source": [
    "## Splitting the dataset"
   ]
  },
  {
   "cell_type": "code",
   "execution_count": 35,
   "id": "ad076be2",
   "metadata": {},
   "outputs": [],
   "source": [
    "x = df.iloc[:, :-1] # independent variables\n",
    "y = df.iloc[:, -1] # dependent variable\n",
    "\n",
    "x_train, x_test, y_train, y_test = train_test_split(x, y, test_size = .20, random_state = 0)"
   ]
  },
  {
   "cell_type": "markdown",
   "id": "f4cb69e3",
   "metadata": {},
   "source": [
    "## Balance class variable using SMOTE and Random Undersampling"
   ]
  },
  {
   "cell_type": "code",
   "execution_count": 36,
   "id": "0bd2a9cc",
   "metadata": {},
   "outputs": [
    {
     "name": "stdout",
     "output_type": "stream",
     "text": [
      "\n",
      "Balance of positive and negative classes (%):\n"
     ]
    },
    {
     "data": {
      "text/plain": [
       "0    77.123206\n",
       "1    22.876794\n",
       "Name: CVD, dtype: float64"
      ]
     },
     "execution_count": 36,
     "metadata": {},
     "output_type": "execute_result"
    }
   ],
   "source": [
    "print('\\nBalance of positive and negative classes (%):')\n",
    "y_train.value_counts(normalize=True)*100"
   ]
  },
  {
   "cell_type": "code",
   "execution_count": 37,
   "id": "d19dcb24",
   "metadata": {},
   "outputs": [],
   "source": [
    "# define pipeline\n",
    "over = SMOTE(sampling_strategy=0.5)\n",
    "under = RandomUnderSampler(sampling_strategy=0.8)\n",
    "steps = [('o', over), ('u', under)]\n",
    "pipeline = Pipeline(steps=steps)"
   ]
  },
  {
   "cell_type": "code",
   "execution_count": 38,
   "id": "ae256c53",
   "metadata": {},
   "outputs": [],
   "source": [
    "x_train_res, y_train_res = pipeline.fit_resample(x_train, y_train)"
   ]
  },
  {
   "cell_type": "code",
   "execution_count": 39,
   "id": "cffbbec7",
   "metadata": {},
   "outputs": [
    {
     "name": "stdout",
     "output_type": "stream",
     "text": [
      "\n",
      "Balance of positive and negative classes (%):\n"
     ]
    },
    {
     "data": {
      "text/plain": [
       "0    55.54981\n",
       "1    44.45019\n",
       "Name: CVD, dtype: float64"
      ]
     },
     "execution_count": 39,
     "metadata": {},
     "output_type": "execute_result"
    }
   ],
   "source": [
    "print('\\nBalance of positive and negative classes (%):')\n",
    "y_train_res.value_counts(normalize=True)*100"
   ]
  },
  {
   "cell_type": "markdown",
   "id": "967fef22",
   "metadata": {},
   "source": [
    "## Method for fitting and evaluating algorithms"
   ]
  },
  {
   "cell_type": "code",
   "execution_count": 40,
   "id": "5715bda4",
   "metadata": {},
   "outputs": [],
   "source": [
    "def run_evaluate(model, x_train, y_train, x_test, y_test):\n",
    "    model.fit(x_train, y_train)\n",
    "    y_pred = model.predict(x_test)\n",
    "    print('Classification report : \\n\\n', classification_report(y_test, y_pred))\n",
    "    print('Confusion matrix : \\n\\n',confusion_matrix(y_test,y_pred))\n",
    "    recall = recall_score(y_test, y_pred)\n",
    "    print('Recall: ',recall)\n",
    "    "
   ]
  },
  {
   "cell_type": "code",
   "execution_count": 41,
   "id": "0a458de5",
   "metadata": {},
   "outputs": [],
   "source": [
    "def training_accuracy(model, x_train, y_train, x_test, y_test):\n",
    "    train_yhat = model.predict(x_train)\n",
    "    train_acc = accuracy_score(y_train, train_yhat)\n",
    "    print('Accuracy on training set:', train_acc)\n",
    "    "
   ]
  },
  {
   "cell_type": "markdown",
   "id": "754d58d6",
   "metadata": {},
   "source": [
    "## Logistic Regression before resampling"
   ]
  },
  {
   "cell_type": "code",
   "execution_count": 42,
   "id": "1471f144",
   "metadata": {},
   "outputs": [
    {
     "name": "stdout",
     "output_type": "stream",
     "text": [
      "Classification report : \n",
      "\n",
      "               precision    recall  f1-score   support\n",
      "\n",
      "           0       0.80      0.98      0.88      1283\n",
      "           1       0.76      0.22      0.34       389\n",
      "\n",
      "    accuracy                           0.80      1672\n",
      "   macro avg       0.78      0.60      0.61      1672\n",
      "weighted avg       0.80      0.80      0.76      1672\n",
      "\n",
      "Confusion matrix : \n",
      "\n",
      " [[1257   26]\n",
      " [ 305   84]]\n",
      "Recall:  0.2159383033419023\n"
     ]
    }
   ],
   "source": [
    "lr = LogisticRegression(solver='newton-cg')\n",
    "run_evaluate(lr, x_train, y_train, x_test, y_test)"
   ]
  },
  {
   "cell_type": "markdown",
   "id": "1215796a",
   "metadata": {},
   "source": [
    "## Logistic Regression after resampling"
   ]
  },
  {
   "cell_type": "code",
   "execution_count": 43,
   "id": "4558c42c",
   "metadata": {},
   "outputs": [
    {
     "name": "stdout",
     "output_type": "stream",
     "text": [
      "Classification report : \n",
      "\n",
      "               precision    recall  f1-score   support\n",
      "\n",
      "           0       0.86      0.76      0.81      1283\n",
      "           1       0.43      0.58      0.49       389\n",
      "\n",
      "    accuracy                           0.72      1672\n",
      "   macro avg       0.64      0.67      0.65      1672\n",
      "weighted avg       0.76      0.72      0.73      1672\n",
      "\n",
      "Confusion matrix : \n",
      "\n",
      " [[981 302]\n",
      " [164 225]]\n",
      "Recall:  0.5784061696658098\n"
     ]
    }
   ],
   "source": [
    "run_evaluate(lr, x_train_res, y_train_res, x_test, y_test)"
   ]
  },
  {
   "cell_type": "markdown",
   "id": "4ddf4c26",
   "metadata": {},
   "source": [
    "## Logistic Regression with cost function (balanced)"
   ]
  },
  {
   "cell_type": "code",
   "execution_count": 44,
   "id": "15ba3f4b",
   "metadata": {},
   "outputs": [
    {
     "name": "stdout",
     "output_type": "stream",
     "text": [
      "Classification report : \n",
      "\n",
      "               precision    recall  f1-score   support\n",
      "\n",
      "           0       0.86      0.71      0.78      1283\n",
      "           1       0.40      0.63      0.49       389\n",
      "\n",
      "    accuracy                           0.69      1672\n",
      "   macro avg       0.63      0.67      0.64      1672\n",
      "weighted avg       0.76      0.69      0.71      1672\n",
      "\n",
      "Confusion matrix : \n",
      "\n",
      " [[917 366]\n",
      " [144 245]]\n",
      "Recall:  0.6298200514138818\n"
     ]
    }
   ],
   "source": [
    "lr_balanced = LogisticRegression(solver='newton-cg', class_weight='balanced')\n",
    "run_evaluate(lr_balanced, x_train, y_train, x_test, y_test)"
   ]
  },
  {
   "cell_type": "code",
   "execution_count": 45,
   "id": "6decddd7",
   "metadata": {},
   "outputs": [
    {
     "name": "stdout",
     "output_type": "stream",
     "text": [
      "Accuracy on training set: 0.7129186602870813\n"
     ]
    }
   ],
   "source": [
    "training_accuracy(lr_balanced, x_train, y_train, x_test, y_test)"
   ]
  },
  {
   "cell_type": "code",
   "execution_count": 46,
   "id": "05b5279e",
   "metadata": {},
   "outputs": [],
   "source": [
    "scoring = ['recall_macro']\n",
    "scores = cross_validate(lr_balanced, x, y, scoring=scoring,cv=10, return_train_score=True)"
   ]
  },
  {
   "cell_type": "code",
   "execution_count": 47,
   "id": "273396f7",
   "metadata": {},
   "outputs": [
    {
     "data": {
      "text/plain": [
       "dict_keys(['fit_time', 'score_time', 'test_recall_macro', 'train_recall_macro'])"
      ]
     },
     "execution_count": 47,
     "metadata": {},
     "output_type": "execute_result"
    }
   ],
   "source": [
    "scores.keys()"
   ]
  },
  {
   "cell_type": "code",
   "execution_count": 48,
   "id": "bec621e9",
   "metadata": {},
   "outputs": [
    {
     "data": {
      "text/plain": [
       "array([0.65008734, 0.71116395, 0.71834563, 0.67054865, 0.70532479,\n",
       "       0.68554283, 0.7101611 , 0.65982466, 0.69929154, 0.70088072])"
      ]
     },
     "execution_count": 48,
     "metadata": {},
     "output_type": "execute_result"
    }
   ],
   "source": [
    "scores['test_recall_macro']"
   ]
  },
  {
   "cell_type": "code",
   "execution_count": 49,
   "id": "5e0204df",
   "metadata": {},
   "outputs": [
    {
     "data": {
      "text/plain": [
       "array([0.69894323, 0.69272158, 0.69148934, 0.69623262, 0.69106412,\n",
       "       0.69416259, 0.69078065, 0.69668201, 0.692487  , 0.69058223])"
      ]
     },
     "execution_count": 49,
     "metadata": {},
     "output_type": "execute_result"
    }
   ],
   "source": [
    "scores['train_recall_macro']"
   ]
  },
  {
   "cell_type": "markdown",
   "id": "a0ffee27",
   "metadata": {},
   "source": [
    "## Logistic Regression with cost function (calculating weights)"
   ]
  },
  {
   "cell_type": "code",
   "execution_count": 50,
   "id": "cb240fe0",
   "metadata": {},
   "outputs": [
    {
     "name": "stdout",
     "output_type": "stream",
     "text": [
      "Fitting 5 folds for each of 200 candidates, totalling 1000 fits\n"
     ]
    },
    {
     "name": "stderr",
     "output_type": "stream",
     "text": [
      "/Users/savvia/opt/anaconda3/lib/python3.8/site-packages/seaborn/_decorators.py:36: FutureWarning: Pass the following variables as keyword args: x, y. From version 0.12, the only valid positional argument will be `data`, and passing other arguments without an explicit keyword will result in an error or misinterpretation.\n",
      "  warnings.warn(\n"
     ]
    },
    {
     "data": {
      "text/plain": [
       "Text(0.5, 1.0, 'Scoring for different class weights')"
      ]
     },
     "execution_count": 50,
     "metadata": {},
     "output_type": "execute_result"
    },
    {
     "data": {
      "image/png": "[encoded data removed]",
      "text/plain": [
       "<Figure size 864x576 with 1 Axes>"
      ]
     },
     "metadata": {},
     "output_type": "display_data"
    }
   ],
   "source": [
    "lr = LogisticRegression(solver='newton-cg')\n",
    "# Setting the range for class weights\n",
    "weights = np.linspace(0.0,0.99,200)\n",
    "# Creating a dictionary grid for grid search\n",
    "param_grid = {'class_weight': [{0:x, 1:1.0-x} for x in weights]}\n",
    "\n",
    "# Fitting grid search to the train data with 5 folds\n",
    "gridsearch = GridSearchCV(estimator= lr, \n",
    "                          param_grid= param_grid,\n",
    "                          cv=StratifiedKFold(), \n",
    "                          n_jobs=-1, \n",
    "                          scoring='f1', \n",
    "                          verbose=2).fit(x_train, y_train)\n",
    "\n",
    "# Ploting the score for different values of weight\n",
    "sns.set_style('whitegrid')\n",
    "plt.figure(figsize=(12,8))\n",
    "weigh_data = pd.DataFrame({ 'score': gridsearch.cv_results_['mean_test_score'], 'weight': (1- weights)})\n",
    "sns.lineplot(weigh_data['weight'], weigh_data['score'])\n",
    "plt.xlabel('Weight for class 1')\n",
    "plt.ylabel('F1 score')\n",
    "plt.xticks([round(i/10,1) for i in range(0,11,1)])\n",
    "plt.title('Scoring for different class weights', fontsize=24)"
   ]
  },
  {
   "cell_type": "code",
   "execution_count": 51,
   "id": "7e36b073",
   "metadata": {},
   "outputs": [
    {
     "data": {
      "text/plain": [
       "0.5186643530267105"
      ]
     },
     "execution_count": 51,
     "metadata": {},
     "output_type": "execute_result"
    }
   ],
   "source": [
    "weigh_data.score.max()"
   ]
  },
  {
   "cell_type": "code",
   "execution_count": 52,
   "id": "487436c0",
   "metadata": {},
   "outputs": [
    {
     "data": {
      "text/plain": [
       "51    0.746281\n",
       "Name: weight, dtype: float64"
      ]
     },
     "execution_count": 52,
     "metadata": {},
     "output_type": "execute_result"
    }
   ],
   "source": [
    "weigh_data.query('score==0.5186643530267105')['weight']"
   ]
  },
  {
   "cell_type": "code",
   "execution_count": 53,
   "id": "678c01ba",
   "metadata": {},
   "outputs": [
    {
     "data": {
      "text/html": [
       "<div>\n",
       "<style scoped>\n",
       "    .dataframe tbody tr th:only-of-type {\n",
       "        vertical-align: middle;\n",
       "    }\n",
       "\n",
       "    .dataframe tbody tr th {\n",
       "        vertical-align: top;\n",
       "    }\n",
       "\n",
       "    .dataframe thead th {\n",
       "        text-align: right;\n",
       "    }\n",
       "</style>\n",
       "<table border=\"1\" class=\"dataframe\">\n",
       "  <thead>\n",
       "    <tr style=\"text-align: right;\">\n",
       "      <th></th>\n",
       "      <th>score</th>\n",
       "      <th>weight</th>\n",
       "    </tr>\n",
       "  </thead>\n",
       "  <tbody>\n",
       "    <tr>\n",
       "      <th>51</th>\n",
       "      <td>0.518664</td>\n",
       "      <td>0.746281</td>\n",
       "    </tr>\n",
       "  </tbody>\n",
       "</table>\n",
       "</div>"
      ],
      "text/plain": [
       "       score    weight\n",
       "51  0.518664  0.746281"
      ]
     },
     "execution_count": 53,
     "metadata": {},
     "output_type": "execute_result"
    }
   ],
   "source": [
    "weigh_data.loc[[51]]"
   ]
  },
  {
   "cell_type": "markdown",
   "id": "96cc8666",
   "metadata": {},
   "source": [
    "### The minority class is class 1. The majority class is class 0. Weight for class 1: 0.746281 Weight for class 0: 0.253719"
   ]
  },
  {
   "cell_type": "code",
   "execution_count": 54,
   "id": "f257212c",
   "metadata": {},
   "outputs": [
    {
     "name": "stdout",
     "output_type": "stream",
     "text": [
      "Classification report : \n",
      "\n",
      "               precision    recall  f1-score   support\n",
      "\n",
      "           0       0.86      0.76      0.81      1283\n",
      "           1       0.42      0.58      0.49       389\n",
      "\n",
      "    accuracy                           0.72      1672\n",
      "   macro avg       0.64      0.67      0.65      1672\n",
      "weighted avg       0.76      0.72      0.73      1672\n",
      "\n",
      "Confusion matrix : \n",
      "\n",
      " [[977 306]\n",
      " [163 226]]\n",
      "Recall:  0.5809768637532133\n"
     ]
    }
   ],
   "source": [
    "lr_weighted = LogisticRegression(solver='newton-cg', class_weight={0: 0.253719, 1: 0.746281})\n",
    "run_evaluate(lr_weighted, x_train, y_train, x_test, y_test)"
   ]
  },
  {
   "cell_type": "markdown",
   "id": "5901aed2",
   "metadata": {},
   "source": [
    "## Decision Tree before resampling"
   ]
  },
  {
   "cell_type": "code",
   "execution_count": 55,
   "id": "ce73ab11",
   "metadata": {},
   "outputs": [
    {
     "name": "stdout",
     "output_type": "stream",
     "text": [
      "Classification report : \n",
      "\n",
      "               precision    recall  f1-score   support\n",
      "\n",
      "           0       0.81      0.82      0.82      1283\n",
      "           1       0.39      0.38      0.38       389\n",
      "\n",
      "    accuracy                           0.72      1672\n",
      "   macro avg       0.60      0.60      0.60      1672\n",
      "weighted avg       0.71      0.72      0.72      1672\n",
      "\n",
      "Confusion matrix : \n",
      "\n",
      " [[1049  234]\n",
      " [ 241  148]]\n",
      "Recall:  0.38046272493573263\n"
     ]
    }
   ],
   "source": [
    "decision_tree= DecisionTreeClassifier(criterion= \"gini\",random_state=10)\n",
    "run_evaluate(decision_tree, x_train, y_train, x_test, y_test)"
   ]
  },
  {
   "cell_type": "markdown",
   "id": "599d51be",
   "metadata": {},
   "source": [
    "## Decision Tree after resampling"
   ]
  },
  {
   "cell_type": "code",
   "execution_count": 56,
   "id": "53572569",
   "metadata": {},
   "outputs": [
    {
     "name": "stdout",
     "output_type": "stream",
     "text": [
      "Classification report : \n",
      "\n",
      "               precision    recall  f1-score   support\n",
      "\n",
      "           0       0.81      0.69      0.74      1283\n",
      "           1       0.31      0.46      0.37       389\n",
      "\n",
      "    accuracy                           0.64      1672\n",
      "   macro avg       0.56      0.58      0.56      1672\n",
      "weighted avg       0.69      0.64      0.66      1672\n",
      "\n",
      "Confusion matrix : \n",
      "\n",
      " [[884 399]\n",
      " [209 180]]\n",
      "Recall:  0.46272493573264784\n"
     ]
    }
   ],
   "source": [
    "run_evaluate(decision_tree, x_train_res, y_train_res, x_test, y_test)"
   ]
  },
  {
   "cell_type": "markdown",
   "id": "a035a6d4",
   "metadata": {},
   "source": [
    "## Decision Tree with cost function"
   ]
  },
  {
   "cell_type": "code",
   "execution_count": 57,
   "id": "a86139f4",
   "metadata": {},
   "outputs": [
    {
     "name": "stdout",
     "output_type": "stream",
     "text": [
      "Classification report : \n",
      "\n",
      "               precision    recall  f1-score   support\n",
      "\n",
      "           0       0.81      0.83      0.82      1283\n",
      "           1       0.38      0.34      0.36       389\n",
      "\n",
      "    accuracy                           0.72      1672\n",
      "   macro avg       0.59      0.59      0.59      1672\n",
      "weighted avg       0.71      0.72      0.71      1672\n",
      "\n",
      "Confusion matrix : \n",
      "\n",
      " [[1067  216]\n",
      " [ 255  134]]\n",
      "Recall:  0.3444730077120823\n"
     ]
    }
   ],
   "source": [
    "decision_tree_balanced= DecisionTreeClassifier(criterion= \"gini\",random_state=10, class_weight='balanced')\n",
    "run_evaluate(decision_tree_balanced, x_train, y_train, x_test, y_test)"
   ]
  },
  {
   "cell_type": "markdown",
   "id": "9428563d",
   "metadata": {},
   "source": [
    "## KNN (K Nearest Neighbors) with imbalanced data"
   ]
  },
  {
   "cell_type": "markdown",
   "id": "2b2bb5bf",
   "metadata": {},
   "source": [
    "### Checking for the best value of  k:"
   ]
  },
  {
   "cell_type": "code",
   "execution_count": 58,
   "id": "24e5bf7e",
   "metadata": {},
   "outputs": [],
   "source": [
    "def find_best_k(x_train, y_train):\n",
    "    error = []\n",
    "    # Calculating error for K values between 1 and 30\n",
    "    for i in range(1, 30):\n",
    "        knn = KNeighborsClassifier(n_neighbors=i)\n",
    "        knn.fit(x_train, y_train)\n",
    "        pred_i = knn.predict(x_test)\n",
    "        error.append(np.mean(pred_i != y_test))\n",
    "    plt.figure(figsize=(12, 6))\n",
    "    plt.plot(range(1, 30), error, color='red', linestyle='dashed', marker='o',\n",
    "             markerfacecolor='blue', markersize=10)\n",
    "    plt.title('Error Rate K Value')\n",
    "    plt.xlabel('K Value')\n",
    "    plt.ylabel('Mean Error')\n",
    "    print(\"Minimum error:-\",min(error),\"at K =\",error.index(min(error))+1)"
   ]
  },
  {
   "cell_type": "code",
   "execution_count": 59,
   "id": "3a1f15fe",
   "metadata": {},
   "outputs": [
    {
     "name": "stdout",
     "output_type": "stream",
     "text": [
      "Minimum error:- 0.23026315789473684 at K = 21\n"
     ]
    },
    {
     "data": {
      "image/png": "[encoded data removed]",
      "text/plain": [
       "<Figure size 864x432 with 1 Axes>"
      ]
     },
     "metadata": {},
     "output_type": "display_data"
    }
   ],
   "source": [
    "find_best_k(x_train, y_train)"
   ]
  },
  {
   "cell_type": "code",
   "execution_count": 60,
   "id": "34610c19",
   "metadata": {},
   "outputs": [
    {
     "name": "stdout",
     "output_type": "stream",
     "text": [
      "Classification report : \n",
      "\n",
      "               precision    recall  f1-score   support\n",
      "\n",
      "           0       0.78      0.98      0.87      1283\n",
      "           1       0.54      0.07      0.12       389\n",
      "\n",
      "    accuracy                           0.77      1672\n",
      "   macro avg       0.66      0.53      0.50      1672\n",
      "weighted avg       0.72      0.77      0.69      1672\n",
      "\n",
      "Confusion matrix : \n",
      "\n",
      " [[1260   23]\n",
      " [ 362   27]]\n",
      "Recall:  0.06940874035989718\n"
     ]
    }
   ],
   "source": [
    "knn= KNeighborsClassifier(n_neighbors=21)  \n",
    "run_evaluate(knn, x_train, y_train, x_test, y_test)"
   ]
  },
  {
   "cell_type": "markdown",
   "id": "cce73213",
   "metadata": {},
   "source": [
    "## KNN (K Nearest Neighbors) after resampling"
   ]
  },
  {
   "cell_type": "code",
   "execution_count": 61,
   "id": "127a7c78",
   "metadata": {},
   "outputs": [
    {
     "name": "stdout",
     "output_type": "stream",
     "text": [
      "Minimum error:- 0.30442583732057416 at K = 2\n"
     ]
    },
    {
     "data": {
      "image/png": "[encoded data removed]",
      "text/plain": [
       "<Figure size 864x432 with 1 Axes>"
      ]
     },
     "metadata": {},
     "output_type": "display_data"
    }
   ],
   "source": [
    "find_best_k(x_train_res, y_train_res)"
   ]
  },
  {
   "cell_type": "code",
   "execution_count": 62,
   "id": "3b8ff826",
   "metadata": {},
   "outputs": [
    {
     "name": "stdout",
     "output_type": "stream",
     "text": [
      "Classification report : \n",
      "\n",
      "               precision    recall  f1-score   support\n",
      "\n",
      "           0       0.79      0.83      0.81      1283\n",
      "           1       0.31      0.26      0.28       389\n",
      "\n",
      "    accuracy                           0.70      1672\n",
      "   macro avg       0.55      0.54      0.54      1672\n",
      "weighted avg       0.68      0.70      0.68      1672\n",
      "\n",
      "Confusion matrix : \n",
      "\n",
      " [[1063  220]\n",
      " [ 289  100]]\n",
      "Recall:  0.2570694087403599\n"
     ]
    }
   ],
   "source": [
    "knn_res= KNeighborsClassifier(n_neighbors=2)  \n",
    "run_evaluate(knn_res, x_train_res, y_train_res, x_test, y_test)"
   ]
  },
  {
   "cell_type": "markdown",
   "id": "5135db4b",
   "metadata": {},
   "source": [
    "## Random Forest with GridSearchCV on imbalanced data"
   ]
  },
  {
   "cell_type": "code",
   "execution_count": 63,
   "id": "e0fb14a5",
   "metadata": {},
   "outputs": [],
   "source": [
    "rfc=RandomForestClassifier(random_state=42)"
   ]
  },
  {
   "cell_type": "code",
   "execution_count": 64,
   "id": "7104551b",
   "metadata": {},
   "outputs": [],
   "source": [
    "param_grid = { \n",
    "    'n_estimators': [200, 500],\n",
    "    'max_features': ['auto', 'sqrt', 'log2'],\n",
    "    'max_depth' : [4,5,6,7,8],\n",
    "    'criterion' :['gini', 'entropy']\n",
    "}"
   ]
  },
  {
   "cell_type": "code",
   "execution_count": 65,
   "id": "3cf11cd4",
   "metadata": {},
   "outputs": [
    {
     "data": {
      "text/plain": [
       "GridSearchCV(cv=5, estimator=RandomForestClassifier(random_state=42),\n",
       "             param_grid={'criterion': ['gini', 'entropy'],\n",
       "                         'max_depth': [4, 5, 6, 7, 8],\n",
       "                         'max_features': ['auto', 'sqrt', 'log2'],\n",
       "                         'n_estimators': [200, 500]})"
      ]
     },
     "execution_count": 65,
     "metadata": {},
     "output_type": "execute_result"
    }
   ],
   "source": [
    "CV_rfc = GridSearchCV(estimator=rfc, param_grid=param_grid, cv= 5)\n",
    "CV_rfc.fit(x_train, y_train)"
   ]
  },
  {
   "cell_type": "code",
   "execution_count": 66,
   "id": "60fe5c7e",
   "metadata": {},
   "outputs": [
    {
     "data": {
      "text/plain": [
       "{'criterion': 'gini',\n",
       " 'max_depth': 6,\n",
       " 'max_features': 'auto',\n",
       " 'n_estimators': 200}"
      ]
     },
     "execution_count": 66,
     "metadata": {},
     "output_type": "execute_result"
    }
   ],
   "source": [
    "CV_rfc.best_params_"
   ]
  },
  {
   "cell_type": "code",
   "execution_count": 67,
   "id": "b7120905",
   "metadata": {},
   "outputs": [
    {
     "name": "stdout",
     "output_type": "stream",
     "text": [
      "Classification report : \n",
      "\n",
      "               precision    recall  f1-score   support\n",
      "\n",
      "           0       0.80      0.99      0.89      1283\n",
      "           1       0.89      0.18      0.30       389\n",
      "\n",
      "    accuracy                           0.80      1672\n",
      "   macro avg       0.84      0.59      0.59      1672\n",
      "weighted avg       0.82      0.80      0.75      1672\n",
      "\n",
      "Confusion matrix : \n",
      "\n",
      " [[1274    9]\n",
      " [ 318   71]]\n",
      "Recall:  0.18251928020565553\n"
     ]
    }
   ],
   "source": [
    "rfc0=RandomForestClassifier(random_state=42, max_features='auto', n_estimators= 200, max_depth=6, criterion='gini')\n",
    "run_evaluate(rfc0, x_train, y_train, x_test, y_test)"
   ]
  },
  {
   "cell_type": "markdown",
   "id": "4e3da5a6",
   "metadata": {},
   "source": [
    "## Random Forest with GridSearchCV on oversampled data"
   ]
  },
  {
   "cell_type": "code",
   "execution_count": 68,
   "id": "f2011658",
   "metadata": {},
   "outputs": [
    {
     "data": {
      "text/plain": [
       "GridSearchCV(cv=5, estimator=RandomForestClassifier(random_state=42),\n",
       "             param_grid={'criterion': ['gini', 'entropy'],\n",
       "                         'max_depth': [4, 5, 6, 7, 8],\n",
       "                         'max_features': ['auto', 'sqrt', 'log2'],\n",
       "                         'n_estimators': [200, 500]})"
      ]
     },
     "execution_count": 68,
     "metadata": {},
     "output_type": "execute_result"
    }
   ],
   "source": [
    "CV_rfc.fit(x_train_res, y_train_res)"
   ]
  },
  {
   "cell_type": "code",
   "execution_count": 69,
   "id": "946fbbc3",
   "metadata": {},
   "outputs": [
    {
     "data": {
      "text/plain": [
       "{'criterion': 'entropy',\n",
       " 'max_depth': 8,\n",
       " 'max_features': 'auto',\n",
       " 'n_estimators': 500}"
      ]
     },
     "execution_count": 69,
     "metadata": {},
     "output_type": "execute_result"
    }
   ],
   "source": [
    "CV_rfc.best_params_"
   ]
  },
  {
   "cell_type": "code",
   "execution_count": 70,
   "id": "cd6ea537",
   "metadata": {},
   "outputs": [
    {
     "name": "stdout",
     "output_type": "stream",
     "text": [
      "Classification report : \n",
      "\n",
      "               precision    recall  f1-score   support\n",
      "\n",
      "           0       0.86      0.78      0.82      1283\n",
      "           1       0.44      0.56      0.49       389\n",
      "\n",
      "    accuracy                           0.73      1672\n",
      "   macro avg       0.65      0.67      0.66      1672\n",
      "weighted avg       0.76      0.73      0.74      1672\n",
      "\n",
      "Confusion matrix : \n",
      "\n",
      " [[1006  277]\n",
      " [ 170  219]]\n",
      "Recall:  0.5629820051413882\n"
     ]
    }
   ],
   "source": [
    "rfc1=RandomForestClassifier(random_state=42, max_features='auto', n_estimators= 200, max_depth=8, criterion='gini')\n",
    "run_evaluate(rfc1, x_train_res, y_train_res, x_test, y_test)"
   ]
  },
  {
   "cell_type": "markdown",
   "id": "9584a4f3",
   "metadata": {},
   "source": [
    "## Random Forest with Bootstrap Class Weighting"
   ]
  },
  {
   "cell_type": "code",
   "execution_count": 71,
   "id": "75d7c6dc",
   "metadata": {},
   "outputs": [
    {
     "name": "stdout",
     "output_type": "stream",
     "text": [
      "Classification report : \n",
      "\n",
      "               precision    recall  f1-score   support\n",
      "\n",
      "           0       0.86      0.74      0.80      1283\n",
      "           1       0.41      0.61      0.50       389\n",
      "\n",
      "    accuracy                           0.71      1672\n",
      "   macro avg       0.64      0.68      0.65      1672\n",
      "weighted avg       0.76      0.71      0.73      1672\n",
      "\n",
      "Confusion matrix : \n",
      "\n",
      " [[946 337]\n",
      " [150 239]]\n",
      "Recall:  0.6143958868894601\n"
     ]
    }
   ],
   "source": [
    "rfc2=RandomForestClassifier(random_state=42, max_features='auto', n_estimators= 200, max_depth=6, criterion='gini',class_weight='balanced_subsample')\n",
    "run_evaluate(rfc2, x_train, y_train, x_test, y_test)"
   ]
  },
  {
   "cell_type": "code",
   "execution_count": 72,
   "id": "95af478e",
   "metadata": {},
   "outputs": [
    {
     "name": "stdout",
     "output_type": "stream",
     "text": [
      "Accuracy on training set: 0.7271232057416268\n"
     ]
    }
   ],
   "source": [
    "training_accuracy(rfc2, x_train, y_train, x_test, y_test)"
   ]
  },
  {
   "cell_type": "markdown",
   "id": "df3ea44c",
   "metadata": {},
   "source": [
    "## Cross validation on random forest"
   ]
  },
  {
   "cell_type": "code",
   "execution_count": 73,
   "id": "01d49adb",
   "metadata": {},
   "outputs": [
    {
     "name": "stdout",
     "output_type": "stream",
     "text": [
      "[0.69138756 0.73205742 0.71291866 0.73205742 0.71889952 0.70215311\n",
      " 0.71650718 0.66746411 0.70095694 0.71650718]\n",
      "cv_scores mean:0.7090909090909091\n"
     ]
    }
   ],
   "source": [
    "from sklearn.model_selection import cross_val_score\n",
    "cv_scores = cross_val_score(rfc2, x, y, cv=10)\n",
    "#print each cv score (accuracy) and average them\n",
    "print(cv_scores)\n",
    "print('cv_scores mean:{}'.format(np.mean(cv_scores)))"
   ]
  },
  {
   "cell_type": "code",
   "execution_count": 74,
   "id": "ddd5a04f",
   "metadata": {},
   "outputs": [],
   "source": [
    "# Save the model as serialized object pickle\n",
    "import pickle\n",
    "with open('model.pkl', 'wb') as file:\n",
    "    pickle.dump(rfc2, file)"
   ]
  },
  {
   "cell_type": "code",
   "execution_count": 75,
   "id": "5ebba337",
   "metadata": {},
   "outputs": [
    {
     "data": {
      "text/plain": [
       "Index(['SEX', 'TOTCHOL', 'AGE', 'SYSBP', 'DIABP', 'CIGPDAY', 'DIABETES',\n",
       "       'BPMEDS', 'PREVCHD', 'PREVAP', 'PREVMI', 'PREVSTRK', 'PREVHYP', 'CVD'],\n",
       "      dtype='object')"
      ]
     },
     "execution_count": 75,
     "metadata": {},
     "output_type": "execute_result"
    }
   ],
   "source": [
    "df.columns"
   ]
  },
  {
   "cell_type": "code",
   "execution_count": 76,
   "id": "02177689",
   "metadata": {},
   "outputs": [
    {
     "data": {
      "text/html": [
       "<div>\n",
       "<style scoped>\n",
       "    .dataframe tbody tr th:only-of-type {\n",
       "        vertical-align: middle;\n",
       "    }\n",
       "\n",
       "    .dataframe tbody tr th {\n",
       "        vertical-align: top;\n",
       "    }\n",
       "\n",
       "    .dataframe thead th {\n",
       "        text-align: right;\n",
       "    }\n",
       "</style>\n",
       "<table border=\"1\" class=\"dataframe\">\n",
       "  <thead>\n",
       "    <tr style=\"text-align: right;\">\n",
       "      <th></th>\n",
       "      <th>SEX</th>\n",
       "      <th>TOTCHOL</th>\n",
       "      <th>AGE</th>\n",
       "      <th>SYSBP</th>\n",
       "      <th>DIABP</th>\n",
       "      <th>CIGPDAY</th>\n",
       "      <th>DIABETES</th>\n",
       "      <th>BPMEDS</th>\n",
       "      <th>PREVCHD</th>\n",
       "      <th>PREVAP</th>\n",
       "      <th>PREVMI</th>\n",
       "      <th>PREVSTRK</th>\n",
       "      <th>PREVHYP</th>\n",
       "      <th>CVD</th>\n",
       "    </tr>\n",
       "  </thead>\n",
       "  <tbody>\n",
       "    <tr>\n",
       "      <th>0</th>\n",
       "      <td>1</td>\n",
       "      <td>195.0</td>\n",
       "      <td>39</td>\n",
       "      <td>106.0</td>\n",
       "      <td>70.0</td>\n",
       "      <td>0.0</td>\n",
       "      <td>0</td>\n",
       "      <td>0.0</td>\n",
       "      <td>0</td>\n",
       "      <td>0</td>\n",
       "      <td>0</td>\n",
       "      <td>0</td>\n",
       "      <td>0</td>\n",
       "      <td>1</td>\n",
       "    </tr>\n",
       "    <tr>\n",
       "      <th>2</th>\n",
       "      <td>2</td>\n",
       "      <td>250.0</td>\n",
       "      <td>46</td>\n",
       "      <td>121.0</td>\n",
       "      <td>81.0</td>\n",
       "      <td>0.0</td>\n",
       "      <td>0</td>\n",
       "      <td>0.0</td>\n",
       "      <td>0</td>\n",
       "      <td>0</td>\n",
       "      <td>0</td>\n",
       "      <td>0</td>\n",
       "      <td>0</td>\n",
       "      <td>0</td>\n",
       "    </tr>\n",
       "    <tr>\n",
       "      <th>3</th>\n",
       "      <td>2</td>\n",
       "      <td>260.0</td>\n",
       "      <td>52</td>\n",
       "      <td>105.0</td>\n",
       "      <td>69.5</td>\n",
       "      <td>0.0</td>\n",
       "      <td>0</td>\n",
       "      <td>0.0</td>\n",
       "      <td>0</td>\n",
       "      <td>0</td>\n",
       "      <td>0</td>\n",
       "      <td>0</td>\n",
       "      <td>0</td>\n",
       "      <td>0</td>\n",
       "    </tr>\n",
       "    <tr>\n",
       "      <th>4</th>\n",
       "      <td>2</td>\n",
       "      <td>237.0</td>\n",
       "      <td>58</td>\n",
       "      <td>108.0</td>\n",
       "      <td>66.0</td>\n",
       "      <td>0.0</td>\n",
       "      <td>0</td>\n",
       "      <td>0.0</td>\n",
       "      <td>0</td>\n",
       "      <td>0</td>\n",
       "      <td>0</td>\n",
       "      <td>0</td>\n",
       "      <td>0</td>\n",
       "      <td>0</td>\n",
       "    </tr>\n",
       "    <tr>\n",
       "      <th>5</th>\n",
       "      <td>1</td>\n",
       "      <td>245.0</td>\n",
       "      <td>48</td>\n",
       "      <td>127.5</td>\n",
       "      <td>80.0</td>\n",
       "      <td>20.0</td>\n",
       "      <td>0</td>\n",
       "      <td>0.0</td>\n",
       "      <td>0</td>\n",
       "      <td>0</td>\n",
       "      <td>0</td>\n",
       "      <td>0</td>\n",
       "      <td>0</td>\n",
       "      <td>0</td>\n",
       "    </tr>\n",
       "  </tbody>\n",
       "</table>\n",
       "</div>"
      ],
      "text/plain": [
       "   SEX  TOTCHOL  AGE  SYSBP  DIABP  CIGPDAY  DIABETES  BPMEDS  PREVCHD  \\\n",
       "0    1    195.0   39  106.0   70.0      0.0         0     0.0        0   \n",
       "2    2    250.0   46  121.0   81.0      0.0         0     0.0        0   \n",
       "3    2    260.0   52  105.0   69.5      0.0         0     0.0        0   \n",
       "4    2    237.0   58  108.0   66.0      0.0         0     0.0        0   \n",
       "5    1    245.0   48  127.5   80.0     20.0         0     0.0        0   \n",
       "\n",
       "   PREVAP  PREVMI  PREVSTRK  PREVHYP  CVD  \n",
       "0       0       0         0        0    1  \n",
       "2       0       0         0        0    0  \n",
       "3       0       0         0        0    0  \n",
       "4       0       0         0        0    0  \n",
       "5       0       0         0        0    0  "
      ]
     },
     "execution_count": 76,
     "metadata": {},
     "output_type": "execute_result"
    }
   ],
   "source": [
    "df.head()"
   ]
  },
  {
   "cell_type": "markdown",
   "id": "76402f3b",
   "metadata": {},
   "source": [
    "## XGBoost on imbalanced data"
   ]
  },
  {
   "cell_type": "code",
   "execution_count": 77,
   "id": "fe3f959b",
   "metadata": {},
   "outputs": [
    {
     "name": "stdout",
     "output_type": "stream",
     "text": [
      "[00:28:12] WARNING: /opt/concourse/worker/volumes/live/7a2b9f41-3287-451b-6691-43e9a6c0910f/volume/xgboost-split_1619728204606/work/src/learner.cc:1061: Starting in XGBoost 1.3.0, the default evaluation metric used with the objective 'binary:logistic' was changed from 'error' to 'logloss'. Explicitly set eval_metric if you'd like to restore the old behavior.\n",
      "Classification report : \n",
      "\n",
      "               precision    recall  f1-score   support\n",
      "\n",
      "           0       0.80      0.93      0.86      1283\n",
      "           1       0.54      0.25      0.34       389\n",
      "\n",
      "    accuracy                           0.78      1672\n",
      "   macro avg       0.67      0.59      0.60      1672\n",
      "weighted avg       0.74      0.78      0.74      1672\n",
      "\n",
      "Confusion matrix : \n",
      "\n",
      " [[1199   84]\n",
      " [ 292   97]]\n",
      "Recall:  0.2493573264781491\n"
     ]
    }
   ],
   "source": [
    "xgb = XGBClassifier()\n",
    "run_evaluate(xgb, x_train, y_train, x_test, y_test)"
   ]
  },
  {
   "cell_type": "markdown",
   "id": "7fa9647e",
   "metadata": {},
   "source": [
    "## XGBoost on oversampled data"
   ]
  },
  {
   "cell_type": "code",
   "execution_count": 78,
   "id": "2c842c1a",
   "metadata": {},
   "outputs": [
    {
     "name": "stdout",
     "output_type": "stream",
     "text": [
      "[00:28:12] WARNING: /opt/concourse/worker/volumes/live/7a2b9f41-3287-451b-6691-43e9a6c0910f/volume/xgboost-split_1619728204606/work/src/learner.cc:1061: Starting in XGBoost 1.3.0, the default evaluation metric used with the objective 'binary:logistic' was changed from 'error' to 'logloss'. Explicitly set eval_metric if you'd like to restore the old behavior.\n",
      "Classification report : \n",
      "\n",
      "               precision    recall  f1-score   support\n",
      "\n",
      "           0       0.83      0.80      0.81      1283\n",
      "           1       0.40      0.46      0.43       389\n",
      "\n",
      "    accuracy                           0.72      1672\n",
      "   macro avg       0.62      0.63      0.62      1672\n",
      "weighted avg       0.73      0.72      0.72      1672\n",
      "\n",
      "Confusion matrix : \n",
      "\n",
      " [[1022  261]\n",
      " [ 212  177]]\n",
      "Recall:  0.455012853470437\n"
     ]
    }
   ],
   "source": [
    "run_evaluate(xgb, x_train_res, y_train_res, x_test, y_test)"
   ]
  },
  {
   "cell_type": "markdown",
   "id": "12b67ce6",
   "metadata": {},
   "source": [
    "## ADA Boost (Adaptive Boost) on imbalanced data"
   ]
  },
  {
   "cell_type": "code",
   "execution_count": 79,
   "id": "041f82ee",
   "metadata": {},
   "outputs": [
    {
     "name": "stdout",
     "output_type": "stream",
     "text": [
      "Classification report : \n",
      "\n",
      "               precision    recall  f1-score   support\n",
      "\n",
      "           0       0.81      0.98      0.88      1283\n",
      "           1       0.74      0.22      0.34       389\n",
      "\n",
      "    accuracy                           0.80      1672\n",
      "   macro avg       0.77      0.60      0.61      1672\n",
      "weighted avg       0.79      0.80      0.76      1672\n",
      "\n",
      "Confusion matrix : \n",
      "\n",
      " [[1252   31]\n",
      " [ 302   87]]\n",
      "Recall:  0.2236503856041131\n"
     ]
    }
   ],
   "source": [
    "# Create adaboost classifer object\n",
    "abc = AdaBoostClassifier(n_estimators=50,\n",
    "                         learning_rate=1)\n",
    "run_evaluate(abc, x_train, y_train, x_test, y_test)"
   ]
  },
  {
   "cell_type": "markdown",
   "id": "06d58cfd",
   "metadata": {},
   "source": [
    "## ADA Boost (Adaptive Boost) on resampled data"
   ]
  },
  {
   "cell_type": "code",
   "execution_count": 80,
   "id": "050188dc",
   "metadata": {},
   "outputs": [
    {
     "name": "stdout",
     "output_type": "stream",
     "text": [
      "Classification report : \n",
      "\n",
      "               precision    recall  f1-score   support\n",
      "\n",
      "           0       0.85      0.80      0.82      1283\n",
      "           1       0.45      0.54      0.49       389\n",
      "\n",
      "    accuracy                           0.74      1672\n",
      "   macro avg       0.65      0.67      0.66      1672\n",
      "weighted avg       0.76      0.74      0.75      1672\n",
      "\n",
      "Confusion matrix : \n",
      "\n",
      " [[1024  259]\n",
      " [ 180  209]]\n",
      "Recall:  0.5372750642673522\n"
     ]
    }
   ],
   "source": [
    "run_evaluate(abc, x_train_res, y_train_res, x_test, y_test)"
   ]
  },
  {
   "cell_type": "markdown",
   "id": "f23bf3ad",
   "metadata": {},
   "source": [
    "## Support Vector Machine (SVM) on imbalanced data"
   ]
  },
  {
   "cell_type": "code",
   "execution_count": 81,
   "id": "3005e0c0",
   "metadata": {},
   "outputs": [
    {
     "name": "stdout",
     "output_type": "stream",
     "text": [
      "Classification report : \n",
      "\n",
      "               precision    recall  f1-score   support\n",
      "\n",
      "           0       0.80      0.98      0.88      1283\n",
      "           1       0.75      0.17      0.28       389\n",
      "\n",
      "    accuracy                           0.79      1672\n",
      "   macro avg       0.77      0.58      0.58      1672\n",
      "weighted avg       0.79      0.79      0.74      1672\n",
      "\n",
      "Confusion matrix : \n",
      "\n",
      " [[1260   23]\n",
      " [ 321   68]]\n",
      "Recall:  0.17480719794344474\n"
     ]
    }
   ],
   "source": [
    "sv = svm.SVC(kernel='linear')\n",
    "run_evaluate(sv, x_train, y_train, x_test, y_test)"
   ]
  },
  {
   "cell_type": "markdown",
   "id": "f0e987b8",
   "metadata": {},
   "source": [
    "## Support Vector Machine (SVM) on resampled data"
   ]
  },
  {
   "cell_type": "code",
   "execution_count": 82,
   "id": "42e26165",
   "metadata": {
    "scrolled": true
   },
   "outputs": [
    {
     "name": "stdout",
     "output_type": "stream",
     "text": [
      "Classification report : \n",
      "\n",
      "               precision    recall  f1-score   support\n",
      "\n",
      "           0       0.86      0.72      0.79      1283\n",
      "           1       0.40      0.62      0.49       389\n",
      "\n",
      "    accuracy                           0.70      1672\n",
      "   macro avg       0.63      0.67      0.64      1672\n",
      "weighted avg       0.76      0.70      0.72      1672\n",
      "\n",
      "Confusion matrix : \n",
      "\n",
      " [[925 358]\n",
      " [148 241]]\n",
      "Recall:  0.6195372750642674\n"
     ]
    }
   ],
   "source": [
    "run_evaluate(sv, x_train_res, y_train_res, x_test, y_test)"
   ]
  },
  {
   "cell_type": "markdown",
   "id": "d357cf6c",
   "metadata": {},
   "source": [
    "## k-fold Cross Validation"
   ]
  },
  {
   "cell_type": "code",
   "execution_count": 83,
   "id": "d07f6e66",
   "metadata": {},
   "outputs": [],
   "source": [
    "from sklearn.model_selection import KFold\n",
    "import numpy as np\n",
    "from sklearn.model_selection import cross_val_score"
   ]
  },
  {
   "cell_type": "code",
   "execution_count": 84,
   "id": "f7b3da4c",
   "metadata": {},
   "outputs": [
    {
     "name": "stdout",
     "output_type": "stream",
     "text": [
      "[0.72368421 0.70334928 0.715311   0.715311   0.70215311 0.69856459\n",
      " 0.73325359 0.70574163 0.72607656 0.72727273]\n",
      "71.50717703349284\n"
     ]
    }
   ],
   "source": [
    "model = DecisionTreeClassifier()\n",
    "kfold_validation = KFold(10)\n",
    "\n",
    "results = cross_val_score(model, x, y, cv = kfold_validation)\n",
    "print(results)\n",
    "print(np.mean(results)*100)"
   ]
  },
  {
   "cell_type": "markdown",
   "id": "9a4089b7",
   "metadata": {},
   "source": [
    "## ANN"
   ]
  },
  {
   "cell_type": "code",
   "execution_count": null,
   "id": "9c7db1fb",
   "metadata": {},
   "outputs": [],
   "source": [
    "from keras.models import Sequential\n",
    "from keras.layers import Dense\n",
    "from keras.utils import to_categorical"
   ]
  }
 ],
 "metadata": {
  "kernelspec": {
   "display_name": "Python 3",
   "language": "python",
   "name": "python3"
  },
  "language_info": {
   "codemirror_mode": {
    "name": "ipython",
    "version": 3
   },
   "file_extension": ".py",
   "mimetype": "text/x-python",
   "name": "python",
   "nbconvert_exporter": "python",
   "pygments_lexer": "ipython3",
   "version": "3.8.8"
  }
 },
 "nbformat": 4,
 "nbformat_minor": 5
}
